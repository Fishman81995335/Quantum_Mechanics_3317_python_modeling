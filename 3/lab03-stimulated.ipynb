{
 "cells": [
  {
   "cell_type": "markdown",
   "metadata": {},
   "source": [
    "Please hand in this completed notebook before next lab by uploading it to blackboard."
   ]
  },
  {
   "cell_type": "markdown",
   "metadata": {},
   "source": [
    "<font color=\"red\"><em> Vineet Kamat </em></font>"
   ]
  },
  {
   "cell_type": "markdown",
   "metadata": {},
   "source": [
    "Run the following cell by pressing shift-enter.  Answer the questions marked in <font color=\"red\">red</font>."
   ]
  },
  {
   "cell_type": "code",
   "execution_count": 2,
   "metadata": {},
   "outputs": [
    {
     "name": "stdout",
     "output_type": "stream",
     "text": [
      "Populating the interactive namespace from numpy and matplotlib\n"
     ]
    }
   ],
   "source": [
    "%pylab inline\n",
    "from __future__ import division "
   ]
  },
  {
   "cell_type": "markdown",
   "metadata": {},
   "source": [
    "## Model"
   ]
  },
  {
   "cell_type": "markdown",
   "metadata": {},
   "source": [
    "In lecture (and in your homework) you have modelled the Ammonia molecule by two amplitudes:  $\\psi_L$ is the amplitude for the Nitrogen atom to be on the left, and $\\psi_R$ is the amplitude for it to be on the right.  We argued by symmetry that"
   ]
  },
  {
   "cell_type": "markdown",
   "metadata": {},
   "source": [
    "$$ i\\partial_t \\left(\\begin{array}{c}\\psi_L(t)\\\\\\psi_R(t)\\end{array}\\right)=\n",
    "\\left(\\begin{array}{cc}a&b\\\\ b&a\\end{array}\\right)\\left(\\begin{array}{c}\\psi_L(t)\\\\\\psi_R(t)\\end{array}\\right),$$"
   ]
  },
  {
   "cell_type": "markdown",
   "metadata": {},
   "source": [
    "It turns out that $a$ is irrelevant to the dynamics.  We can get rid of it by taking $\\psi\\to e^{-i a t} \\psi$.  Further, we can always choose our unit of time so that $b=-1$.  Thus in the first part of this notebook we will solve  "
   ]
  },
  {
   "cell_type": "markdown",
   "metadata": {},
   "source": [
    "$$ i\\partial_t \\left(\\begin{array}{c}\\psi_L(t)\\\\\\psi_R(t)\\end{array}\\right)=\n",
    "\\left(\\begin{array}{cc}0&-1\\\\ -1&0\\end{array}\\right)\\left(\\begin{array}{c}\\psi_L(t)\\\\\\psi_R(t)\\end{array}\\right),$$"
   ]
  },
  {
   "cell_type": "markdown",
   "metadata": {},
   "source": [
    "This is a simple enough equation that we can solve it analytically, but we want to develop numerical tools.  In particular, we will discretize time, and use a finite difference approximation."
   ]
  },
  {
   "cell_type": "markdown",
   "metadata": {},
   "source": [
    "To make the notation nice, I will write $$\\vec\\psi(t)=\\left(\\begin{array}{c}\\psi_L(t)\\\\\\psi_R(t)\\end{array}\\right),$$ and $$H=\\left(\\begin{array}{cc}0&-1\\\\ -1&0\\end{array}\\right)$$"
   ]
  },
  {
   "cell_type": "markdown",
   "metadata": {},
   "source": [
    "In the last recitation you were introduced to finite differences in space.  Next recitation you will combine the two techniques, and look at finite differences in both space and time."
   ]
  },
  {
   "cell_type": "markdown",
   "metadata": {},
   "source": [
    "In the last two homeworks you saw a couple useful finite difference schemes."
   ]
  },
  {
   "cell_type": "markdown",
   "metadata": {},
   "source": [
    "$$ \\mbox{ Euler:}\\quad i\\frac{\\vec\\psi(t+\\delta t)-\\vec \\psi(t)}{\\delta t}= H\\vec\\psi(t)$$"
   ]
  },
  {
   "cell_type": "markdown",
   "metadata": {},
   "source": [
    "$$\\mbox{ Backwards Euler:}\\quad i\\frac{\\vec\\psi(t+\\delta t)-\\vec \\psi(t)}{\\delta t}= H\\vec\\psi(t+\\delta t)$$"
   ]
  },
  {
   "cell_type": "markdown",
   "metadata": {},
   "source": [
    "You saw in your homework that neither of these conserve probability:  The normalization of $\\vec \\psi$ gets messed up.  The simplest finite difference approximation which does not mess up the normalization is the Unitary (or Semi-Implicit) Euler method:"
   ]
  },
  {
   "cell_type": "markdown",
   "metadata": {},
   "source": [
    "$$\\mbox{ Unitary Euler:}\\quad i\\frac{\\vec\\psi(t+\\delta t)-\\vec \\psi(t)}{\\delta t}= H\\left(\\frac{\\vec\\psi(t+\\delta t)+\\vec\\psi(t)}{2}\\right)$$"
   ]
  },
  {
   "cell_type": "markdown",
   "metadata": {},
   "source": [
    "<font color=\"red\">Rewrite this equation so that $\\psi(t+\\delta t)$ appears on the left, and $\\psi(t)$ on the right.  Double click on this cell, and fill in the ??? in the equation \n",
    "$$\\left(1+\\frac{i H \\delta t}{2}\\right)\\vec\\psi(t+\\delta t)= \\left(1-\\frac{i H \\delta t}{2}\\right)\\vec\\psi(t)$$\n",
    "</font>"
   ]
  },
  {
   "cell_type": "markdown",
   "metadata": {},
   "source": [
    "By inverting the matrix $(1+i H \\delta t/2)$, one can write $$ \\vec\\psi(t+\\delta t)=U\\vec\\psi(t)$$ where $U$ is a $2\\times 2$ matrix.  "
   ]
  },
  {
   "cell_type": "code",
   "execution_count": null,
   "metadata": {},
   "outputs": [],
   "source": []
  },
  {
   "cell_type": "markdown",
   "metadata": {},
   "source": [
    "We can write $U$ as the product of two matrices"
   ]
  },
  {
   "cell_type": "markdown",
   "metadata": {},
   "source": [
    "$$U=\\left(1+i H \\delta t/2\\right)^{-1} \\left(1-i H \\delta t/2\\right)$$"
   ]
  },
  {
   "cell_type": "markdown",
   "metadata": {},
   "source": [
    "<font color=\"red\"> Edit the following equation, replacing $a,b,c,d$ with expressions involving $\\delta t$, $i$, and numerical factors.\n",
    "$$\n",
    "(1+i H \\delta t/2)=\\left(\\begin{array}{cc} 1 & i\\delta t/2 \\\\ i\\delta t/2 & 1 \\end{array}\\right)\n",
    "$$\n",
    "</font>"
   ]
  },
  {
   "cell_type": "markdown",
   "metadata": {},
   "source": [
    "<font color=\"red\"> Edit the following equation, replacing $e,f,g,h$ with expressions involving $\\delta t$, $i$, and numerical factors.\n",
    "$$\n",
    "(1-i H \\delta t/2)=\\left(\\begin{array}{cc} 1 & -i\\delta t/2 \\\\ -i\\delta t/2 & 1 \\end{array}\\right)\n",
    "$$\n",
    "</font>"
   ]
  },
  {
   "cell_type": "markdown",
   "metadata": {},
   "source": [
    "In Python one can build matrices with the following notation -- hit shift-enter on that cell"
   ]
  },
  {
   "cell_type": "code",
   "execution_count": 3,
   "metadata": {},
   "outputs": [],
   "source": [
    "U1= array([[1,2],[3,4]])"
   ]
  },
  {
   "cell_type": "markdown",
   "metadata": {},
   "source": [
    "You can see the matrix by just typing the name of it and shift-enter"
   ]
  },
  {
   "cell_type": "code",
   "execution_count": 12,
   "metadata": {},
   "outputs": [
    {
     "data": {
      "text/plain": [
       "array([[1, 2],\n",
       "       [3, 4]])"
      ]
     },
     "execution_count": 12,
     "metadata": {},
     "output_type": "execute_result"
    }
   ],
   "source": [
    "U1"
   ]
  },
  {
   "cell_type": "markdown",
   "metadata": {},
   "source": [
    "Better yet, you can load the showmat package"
   ]
  },
  {
   "cell_type": "code",
   "execution_count": 13,
   "metadata": {},
   "outputs": [
    {
     "data": {
      "text/html": [
       "<div style=\"max-width:1000px;max-height:400px;border:1px solid #ccc;font:9px/11px  Courier, monospace;overflow:auto;\"><table><tr><td>1</td><td>2</td></tr><tr><td>3</td><td>4</td></tr></table>"
      ],
      "text/plain": [
       "<IPython.core.display.HTML object>"
      ]
     },
     "execution_count": 13,
     "metadata": {},
     "output_type": "execute_result"
    }
   ],
   "source": [
    "from showmat import showmat\n",
    "showmat(U1)"
   ]
  },
  {
   "cell_type": "markdown",
   "metadata": {},
   "source": [
    "You can invert matrices using the following notation"
   ]
  },
  {
   "cell_type": "code",
   "execution_count": 14,
   "metadata": {},
   "outputs": [
    {
     "data": {
      "text/html": [
       "<div style=\"max-width:1000px;max-height:400px;border:1px solid #ccc;font:9px/11px  Courier, monospace;overflow:auto;\"><table><tr><td>-2</td><td>1</td></tr><tr><td>1.5</td><td>-0.5</td></tr></table>"
      ],
      "text/plain": [
       "<IPython.core.display.HTML object>"
      ]
     },
     "execution_count": 14,
     "metadata": {},
     "output_type": "execute_result"
    }
   ],
   "source": [
    "Uinv1=inv(U1)\n",
    "showmat(Uinv1)"
   ]
  },
  {
   "cell_type": "markdown",
   "metadata": {},
   "source": [
    "We can verify that this is indeed the inverse by taking the matrix product"
   ]
  },
  {
   "cell_type": "code",
   "execution_count": 15,
   "metadata": {},
   "outputs": [
    {
     "data": {
      "text/plain": [
       "array([[1.0000000e+00, 4.4408921e-16],\n",
       "       [0.0000000e+00, 1.0000000e+00]])"
      ]
     },
     "execution_count": 15,
     "metadata": {},
     "output_type": "execute_result"
    }
   ],
   "source": [
    "Uinv1.dot(U1)"
   ]
  },
  {
   "cell_type": "markdown",
   "metadata": {},
   "source": [
    "In Python, you can define complex numbers using a lower case $j$, such as"
   ]
  },
  {
   "cell_type": "code",
   "execution_count": 16,
   "metadata": {},
   "outputs": [
    {
     "data": {
      "text/plain": [
       "(5-1j)"
      ]
     },
     "execution_count": 16,
     "metadata": {},
     "output_type": "execute_result"
    }
   ],
   "source": [
    "(3.+2.j)*(1-1j)"
   ]
  },
  {
   "cell_type": "markdown",
   "metadata": {},
   "source": [
    "While there are ways to make Python work symbolically (like Mathematica) we will work only with numerical matrices in this part of the course.  Thus we need a function which generates $U$, given $\\delta t$."
   ]
  },
  {
   "cell_type": "markdown",
   "metadata": {},
   "source": [
    "Replace the a,b,c,d,e,f,g,h in the following function"
   ]
  },
  {
   "cell_type": "code",
   "execution_count": 17,
   "metadata": {},
   "outputs": [],
   "source": [
    "def U(dt):\n",
    "    \"\"\" U(dt) generates a 2x2 matrix which evolves the wavefunction for Ammonia by a time dt. \n",
    "    We use units where the level spacing is unity.\"\"\"\n",
    "    mat1=array([[1,(1j/2)*dt],[(1j/2)*dt,1]]) # this should be 1+i H dt/2\n",
    "    mat2=array([[1,-(1j/2)*dt],[(-1j/2)*dt,1]]) # this should be 1-i H dt/2\n",
    "    U=inv(mat1).dot(mat2)\n",
    "    return U"
   ]
  },
  {
   "cell_type": "markdown",
   "metadata": {},
   "source": [
    "Test it with the following code"
   ]
  },
  {
   "cell_type": "code",
   "execution_count": 24,
   "metadata": {},
   "outputs": [
    {
     "data": {
      "text/plain": [
       "array([[0.99501247+0.j        , 0.        -0.09975062j],\n",
       "       [0.        -0.09975062j, 0.99501247+0.j        ]])"
      ]
     },
     "execution_count": 24,
     "metadata": {},
     "output_type": "execute_result"
    }
   ],
   "source": [
    "U2=U(0.1)\n",
    "U2"
   ]
  },
  {
   "cell_type": "markdown",
   "metadata": {},
   "source": [
    "<font color=red>Look up on Google how to take the determinent of U2.  Calculate the determinent. </font>"
   ]
  },
  {
   "cell_type": "code",
   "execution_count": 28,
   "metadata": {},
   "outputs": [
    {
     "data": {
      "text/plain": [
       "(1.0000000000000002+0j)"
      ]
     },
     "execution_count": 28,
     "metadata": {},
     "output_type": "execute_result"
    }
   ],
   "source": [
    "def detTwoByTwo(U):\n",
    "    a = U[0][0]*U[1][1]-U[0][1]*U[1][0]\n",
    "    return a\n",
    "detTwoByTwo(U2)"
   ]
  },
  {
   "cell_type": "code",
   "execution_count": 29,
   "metadata": {},
   "outputs": [
    {
     "data": {
      "text/plain": [
       "array([[0.99501247+0.j        , 0.        +0.09975062j],\n",
       "       [0.        +0.09975062j, 0.99501247+0.j        ]])"
      ]
     },
     "execution_count": 29,
     "metadata": {},
     "output_type": "execute_result"
    }
   ],
   "source": [
    "inv(U2)"
   ]
  },
  {
   "cell_type": "code",
   "execution_count": 32,
   "metadata": {},
   "outputs": [
    {
     "data": {
      "text/plain": [
       "array([[1.+0.00000000e+00j, 0.+0.00000000e+00j],\n",
       "       [0.-2.77555756e-17j, 1.+0.00000000e+00j]])"
      ]
     },
     "execution_count": 32,
     "metadata": {},
     "output_type": "execute_result"
    }
   ],
   "source": [
    "U2.dot(inv(U2))"
   ]
  },
  {
   "cell_type": "markdown",
   "metadata": {},
   "source": [
    "<font color=\"red\">Is the matrix U Unitary, Hermitian, AntiHermitian, none of these?</font>  Multiplying U2 by U2 transpose gives us I so U is unitary but not hermitian because the transpose conjugate is not equal to itself"
   ]
  },
  {
   "cell_type": "markdown",
   "metadata": {},
   "source": [
    "## Time Evolution"
   ]
  },
  {
   "cell_type": "markdown",
   "metadata": {},
   "source": [
    "To calculate the time evolution, we simply need to repeatedly multiply by this matrix.  For that we need \"loops.\"  Here is a little \"program\" which calculates a time-sequence of wavefunctions.  [One could encapsulate this into a function, but I find many students are more comfortable simply copying and pasting code blocks like this one.]"
   ]
  },
  {
   "cell_type": "code",
   "execution_count": 61,
   "metadata": {},
   "outputs": [],
   "source": [
    "dt=0.1  # set timestep\n",
    "evolve = U(dt) # generate matrix which evolves in time\n",
    "psi0=array([1,0]) # initial condition\n",
    "maxt= 10 # what number to integrate to\n",
    "\n",
    "t=0\n",
    "psi=psi0\n",
    "\n",
    "tlist=[t]\n",
    "psilist=[psi]\n",
    "\n",
    "while (t<maxt):\n",
    "    t=t+dt\n",
    "    psi=evolve.dot(psi)\n",
    "    tlist.append(t)\n",
    "    psilist.append(psi)\n",
    "    \n",
    "psiarray=array(psilist) # convert to more convenient container"
   ]
  },
  {
   "cell_type": "markdown",
   "metadata": {},
   "source": [
    "Here is an example of Plotting the probability of the Nitrogen being on the left"
   ]
  },
  {
   "cell_type": "code",
   "execution_count": 62,
   "metadata": {},
   "outputs": [
    {
     "data": {
      "text/plain": [
       "Text(0.5,1,'Probability of being on left')"
      ]
     },
     "execution_count": 62,
     "metadata": {},
     "output_type": "execute_result"
    },
    {
     "data": {
      "image/png": "[encoded data removed]",
      "text/plain": [
       "<Figure size 432x288 with 1 Axes>"
      ]
     },
     "metadata": {
      "needs_background": "light"
     },
     "output_type": "display_data"
    }
   ],
   "source": [
    "plot(tlist,abs(psiarray[:,0])**2)\n",
    "ylabel(\"$|\\psi_L|^2$\",fontsize=24)\n",
    "xlabel(\"$t$\",fontsize=24)\n",
    "ylim(0,1)\n",
    "title(\"Probability of being on left\")"
   ]
  },
  {
   "cell_type": "markdown",
   "metadata": {},
   "source": [
    "An important question is how small to take our step-size.  Modify the following code to produce a stepsize of dt=0.01.  "
   ]
  },
  {
   "cell_type": "code",
   "execution_count": 63,
   "metadata": {},
   "outputs": [],
   "source": [
    "dt=0.01  # set timestep -- you need to modify this line\n",
    "evolve = U(dt) # generate matrix which evolves in time\n",
    "psi0=array([1,0]) # initial condition\n",
    "maxt= 10 # what number to integrate to\n",
    "\n",
    "t=0\n",
    "psi=psi0\n",
    "\n",
    "tlist2=[t]\n",
    "psilist2=[psi]\n",
    "\n",
    "while (t<maxt):\n",
    "    t=t+dt\n",
    "    psi=evolve.dot(psi)\n",
    "    tlist2.append(t)\n",
    "    psilist2.append(psi)\n",
    "    \n",
    "psiarray2=array(psilist2) # convert to more convenient container"
   ]
  },
  {
   "cell_type": "markdown",
   "metadata": {},
   "source": [
    "The following code makes a plot which compares the results for dt=0.1 and dt=0.01"
   ]
  },
  {
   "cell_type": "code",
   "execution_count": 64,
   "metadata": {},
   "outputs": [
    {
     "data": {
      "text/plain": [
       "Text(0.5,1,'Probability of being on left')"
      ]
     },
     "execution_count": 64,
     "metadata": {},
     "output_type": "execute_result"
    },
    {
     "data": {
      "image/png": "[encoded data removed]",
      "text/plain": [
       "<Figure size 432x288 with 1 Axes>"
      ]
     },
     "metadata": {
      "needs_background": "light"
     },
     "output_type": "display_data"
    }
   ],
   "source": [
    "plot(tlist2,abs(psiarray2[:,0])**2,\".\")\n",
    "plot(tlist,abs(psiarray[:,0])**2,\"o\")\n",
    "ylim(0,1)\n",
    "ylabel(\"$|\\psi_L|^2$\",fontsize=24)\n",
    "xlabel(\"$t$\",fontsize=24)\n",
    "title(\"Probability of being on left\")"
   ]
  },
  {
   "cell_type": "markdown",
   "metadata": {},
   "source": [
    "Comment on the accuracy of the $dt=0.1$ result"
   ]
  },
  {
   "cell_type": "markdown",
   "metadata": {},
   "source": [
    "<font color=\"red\"> The results are fairly similar.  The tim evolution follows almost perfectly for both graphs </font>"
   ]
  },
  {
   "cell_type": "markdown",
   "metadata": {},
   "source": [
    "In the cells below, repeat the dt=0.1 calculation, but with the initial state being $|+\\rangle=(1/\\sqrt{2},1/\\sqrt{2})$.  For obvious reasons, we call $|+\\rangle$ a \"stationary state\".  <em> Note, your plot will look funny unless you include the command <tt>ylim(0,1)</tt> which sets the y-axis range.  The plotting functions sometimes have difficulty with automatically choosing the range </em>"
   ]
  },
  {
   "cell_type": "code",
   "execution_count": 65,
   "metadata": {},
   "outputs": [],
   "source": [
    "dt=0.1  # set timestep\n",
    "evolve = U(dt) # generate matrix which evolves in time\n",
    "psi0=array([1/np.sqrt(2),1/np.sqrt(2)]) # initial condition\n",
    "maxt= 10 # what number to integrate to\n",
    "\n",
    "t=0\n",
    "psi=psi0\n",
    "\n",
    "tlist=[t]\n",
    "psilist=[psi]\n",
    "\n",
    "while (t<maxt):\n",
    "    t=t+dt\n",
    "    psi=evolve.dot(psi)\n",
    "    tlist.append(t)\n",
    "    psilist.append(psi)\n",
    "    \n",
    "psiarray=array(psilist) # convert to more convenient container"
   ]
  },
  {
   "cell_type": "code",
   "execution_count": 66,
   "metadata": {},
   "outputs": [
    {
     "data": {
      "text/plain": [
       "Text(0.5,1,'Probability of being on left')"
      ]
     },
     "execution_count": 66,
     "metadata": {},
     "output_type": "execute_result"
    },
    {
     "data": {
      "image/png": "[encoded data removed]",
      "text/plain": [
       "<Figure size 432x288 with 1 Axes>"
      ]
     },
     "metadata": {
      "needs_background": "light"
     },
     "output_type": "display_data"
    }
   ],
   "source": [
    "plot(tlist,abs(psiarray[:,0])**2,\"o\")\n",
    "ylim(0,1)\n",
    "ylabel(\"$|\\psi_L|^2$\",fontsize=24)\n",
    "xlabel(\"$t$\",fontsize=24)\n",
    "title(\"Probability of being on left\")"
   ]
  },
  {
   "cell_type": "markdown",
   "metadata": {},
   "source": [
    "## Stimulated Absorption and Emission"
   ]
  },
  {
   "cell_type": "markdown",
   "metadata": {},
   "source": [
    "In the presence of a microwave field, the equations of motion become"
   ]
  },
  {
   "cell_type": "markdown",
   "metadata": {},
   "source": [
    "$$ i\\partial_t \\left(\\begin{array}{c}\\psi_L(t)\\\\\\psi_R(t)\\end{array}\\right)=\n",
    "\\left(\\begin{array}{cc}E(t)&-1\\\\ -1&-E(t)\\end{array}\\right)\\left(\\begin{array}{c}\\psi_L(t)\\\\\\psi_R(t)\\end{array}\\right),$$"
   ]
  },
  {
   "cell_type": "markdown",
   "metadata": {},
   "source": [
    "where $E(t)=\\epsilon \\cos(\\omega t)$."
   ]
  },
  {
   "cell_type": "markdown",
   "metadata": {},
   "source": [
    "Now that $H$ is time dependent, the generalization of the Unitary Euler method is"
   ]
  },
  {
   "cell_type": "markdown",
   "metadata": {},
   "source": [
    "$$i\\frac{\\vec\\psi(t+\\delta t)-\\vec \\psi(t)}{\\delta t}= H(t+\\delta t/2)\\left(\\frac{\\vec\\psi(t+\\delta t)+\\vec\\psi(t)}{2}\\right)$$"
   ]
  },
  {
   "cell_type": "markdown",
   "metadata": {},
   "source": [
    "This can be rewritten as"
   ]
  },
  {
   "cell_type": "markdown",
   "metadata": {},
   "source": [
    "$$\\psi(t+\\delta t)= U(t) \\psi(t)$$"
   ]
  },
  {
   "cell_type": "markdown",
   "metadata": {},
   "source": [
    "<font color=\"red\"> Edit the following equation, replacing $a,b,c,d,e,f,g,h$ with expressions involving $\\delta t$, $i$, $E$ (which is shorthand for $E(t+\\delta t/2)$ and numerical factors.\n",
    "$$\n",
    "U(t)=\\left(\\begin{array}{cc} 1+(i\\delta t/2)(\\epsilon cos(\\omega(t+\\delta t))) & -1 \\\\ -1 & 1-(i\\delta t/2)(\\epsilon cos(\\omega(t+\\delta t))) \\end{array}\\right)^{-1} \\left(\\begin{array}{cc} 1-(i\\delta t/2)(\\epsilon cos(\\omega(t+\\delta t))) & 1 \\\\ 1 & 1+(i\\delta t/2)(\\epsilon cos(\\omega(t+\\delta t))) \\end{array}\\right)\n",
    "$$\n",
    "</font>"
   ]
  },
  {
   "cell_type": "markdown",
   "metadata": {},
   "source": [
    "Make a function which generates this $U$"
   ]
  },
  {
   "cell_type": "code",
   "execution_count": 70,
   "metadata": {},
   "outputs": [],
   "source": [
    "def drivenU(dt,E,w):\n",
    "    \"\"\" U(dt,E) generates a 2x2 matrix which evolves the wavefunction for Ammonia by a time dt\n",
    "    in the presence of an oscillating electric field.  The quantity E, should be the electric field\n",
    "    at time t+dt/2.\n",
    "    We use units where the level spacing is unity.\"\"\"\n",
    "    mat1=array([[1+(1j*dt*E/2)*cos(w*(t+dt)),-1],[-1,1-(1j*dt*E/2)*cos(w*(t+dt))]]) # this should be 1+i H dt/2\n",
    "    mat2=array([[1-(1j*dt*E/2)*cos(w*(t+dt)),1],[1,1+(1j*dt*E/2)*cos(w*(t+dt))]]) # this should be 1-i H dt/2\n",
    "    U=inv(mat1).dot(mat2)\n",
    "    return U"
   ]
  },
  {
   "cell_type": "markdown",
   "metadata": {},
   "source": [
    "Test your function."
   ]
  },
  {
   "cell_type": "code",
   "execution_count": 71,
   "metadata": {},
   "outputs": [
    {
     "data": {
      "text/plain": [
       "array([[13344290.82457543+5.16609946e+03j,\n",
       "        13344291.82457543+2.93208177e-06j],\n",
       "       [13344291.82457543+2.93208177e-06j,\n",
       "        13344290.82457543-5.16609946e+03j]])"
      ]
     },
     "execution_count": 71,
     "metadata": {},
     "output_type": "execute_result"
    }
   ],
   "source": [
    "drivenU(.01,.1,1)"
   ]
  },
  {
   "cell_type": "code",
   "execution_count": 72,
   "metadata": {},
   "outputs": [
    {
     "data": {
      "text/plain": [
       "(1+3.2010137260840565e-06j)"
      ]
     },
     "execution_count": 72,
     "metadata": {},
     "output_type": "execute_result"
    }
   ],
   "source": [
    "detTwoByTwo(drivenU(.01,.1,1))"
   ]
  },
  {
   "cell_type": "markdown",
   "metadata": {},
   "source": [
    "Write a little loop, which calculates the time evolution of the ammonia atom starting in the ground state $|+\\rangle=(1/\\sqrt{2},1/\\sqrt{2})$.  Take $E=\\epsilon \\cos(\\omega t)$ with $\\epsilon=0.1$ and $\\omega=1$.  This is off-resonant, and you should find very little stimulated absorption (at best a few percent).  You will have to generate $U$ inside your loop, as it is different at each time slice.  Use $dt=0.1$, and integrate to time $t=100$.  Plot the probability of being in the ground state $P_g=| \\psi_L/\\sqrt{2}+\\psi_R/\\sqrt{2}|^2$.  Label your graph."
   ]
  },
  {
   "cell_type": "code",
   "execution_count": 73,
   "metadata": {},
   "outputs": [],
   "source": [
    "dt=0.1  # set timestep\n",
    "evolve = drivenU(dt,.1,1) # generate matrix which evolves in time\n",
    "psi0=array([1/np.sqrt(2),1/np.sqrt(2)]) # initial condition\n",
    "maxt= 100 # what number to integrate to\n",
    "\n",
    "t=0\n",
    "psi=psi0\n",
    "\n",
    "tlist=[t]\n",
    "psilist=[psi]\n",
    "\n",
    "while (t<maxt):\n",
    "    t=t+dt\n",
    "    psi=evolve.dot(psi)\n",
    "    tlist.append(t)\n",
    "    psilist.append(psi)\n",
    "    \n",
    "psiarray=array(psilist) # convert to more convenient container"
   ]
  },
  {
   "cell_type": "code",
   "execution_count": 74,
   "metadata": {},
   "outputs": [
    {
     "name": "stderr",
     "output_type": "stream",
     "text": [
      "/Users/vineetkamat/anaconda2/lib/python2.7/site-packages/ipykernel_launcher.py:1: RuntimeWarning: overflow encountered in square\n",
      "  \"\"\"Entry point for launching an IPython kernel.\n"
     ]
    },
    {
     "data": {
      "text/plain": [
       "Text(0.5,1,'Probability of being on left')"
      ]
     },
     "execution_count": 74,
     "metadata": {},
     "output_type": "execute_result"
    },
    {
     "data": {
      "image/png": "[encoded data removed]",
      "text/plain": [
       "<Figure size 432x288 with 1 Axes>"
      ]
     },
     "metadata": {
      "needs_background": "light"
     },
     "output_type": "display_data"
    }
   ],
   "source": [
    "plot(tlist,abs(psiarray[:,0])**2,\"o\")\n",
    "ylim(0,1)\n",
    "ylabel(\"$|\\psi_L|^2$\",fontsize=24)\n",
    "xlabel(\"$t$\",fontsize=24)\n",
    "title(\"Probability of being on left\")"
   ]
  },
  {
   "cell_type": "code",
   "execution_count": null,
   "metadata": {},
   "outputs": [],
   "source": []
  },
  {
   "cell_type": "code",
   "execution_count": null,
   "metadata": {},
   "outputs": [],
   "source": []
  },
  {
   "cell_type": "markdown",
   "metadata": {},
   "source": [
    "Repeat with a resonant drive, where $\\omega=2$."
   ]
  },
  {
   "cell_type": "code",
   "execution_count": 75,
   "metadata": {},
   "outputs": [],
   "source": [
    "dt=0.1  # set timestep\n",
    "evolve = drivenU(dt,.1,2) # generate matrix which evolves in time\n",
    "psi0=array([1/np.sqrt(2),1/np.sqrt(2)]) # initial condition\n",
    "maxt= 100 # what number to integrate to\n",
    "\n",
    "t=0\n",
    "psi=psi0\n",
    "\n",
    "tlist=[t]\n",
    "psilist=[psi]\n",
    "\n",
    "while (t<maxt):\n",
    "    t=t+dt\n",
    "    psi=evolve.dot(psi)\n",
    "    tlist.append(t)\n",
    "    psilist.append(psi)\n",
    "    \n",
    "psiarray=array(psilist) # convert to more convenient container"
   ]
  },
  {
   "cell_type": "code",
   "execution_count": 76,
   "metadata": {},
   "outputs": [
    {
     "name": "stderr",
     "output_type": "stream",
     "text": [
      "/Users/vineetkamat/anaconda2/lib/python2.7/site-packages/ipykernel_launcher.py:1: RuntimeWarning: overflow encountered in square\n",
      "  \"\"\"Entry point for launching an IPython kernel.\n"
     ]
    },
    {
     "data": {
      "text/plain": [
       "Text(0.5,1,'Probability of being on left')"
      ]
     },
     "execution_count": 76,
     "metadata": {},
     "output_type": "execute_result"
    },
    {
     "data": {
      "image/png": "[encoded data removed]",
      "text/plain": [
       "<Figure size 432x288 with 1 Axes>"
      ]
     },
     "metadata": {
      "needs_background": "light"
     },
     "output_type": "display_data"
    }
   ],
   "source": [
    "plot(tlist,abs(psiarray[:,0])**2,\"o\")\n",
    "ylim(0,1)\n",
    "ylabel(\"$|\\psi_L|^2$\",fontsize=24)\n",
    "xlabel(\"$t$\",fontsize=24)\n",
    "title(\"Probability of being on left\")"
   ]
  },
  {
   "cell_type": "code",
   "execution_count": null,
   "metadata": {},
   "outputs": [],
   "source": []
  },
  {
   "cell_type": "code",
   "execution_count": null,
   "metadata": {},
   "outputs": [],
   "source": []
  }
 ],
 "metadata": {
  "kernelspec": {
   "display_name": "Python 2",
   "language": "python",
   "name": "python2"
  },
  "language_info": {
   "codemirror_mode": {
    "name": "ipython",
    "version": 2
   },
   "file_extension": ".py",
   "mimetype": "text/x-python",
   "name": "python",
   "nbconvert_exporter": "python",
   "pygments_lexer": "ipython2",
   "version": "2.7.15"
  }
 },
 "nbformat": 4,
 "nbformat_minor": 1
}
