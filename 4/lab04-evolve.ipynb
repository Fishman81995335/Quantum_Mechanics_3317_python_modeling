{
 "cells": [
  {
   "cell_type": "markdown",
   "metadata": {},
   "source": [
    "# PHYS 3317 -- Time Evolution"
   ]
  },
  {
   "cell_type": "markdown",
   "metadata": {},
   "source": [
    "Upload completed notebook to Blackboard at end of recitation section (or before next recitation if you do not complete it during the recitation period)"
   ]
  },
  {
   "cell_type": "markdown",
   "metadata": {},
   "source": [
    "<font color=\"red\"><em> Vineet Kamat </em></font>"
   ]
  },
  {
   "cell_type": "markdown",
   "metadata": {},
   "source": [
    "<font color=\"blue\"> This exercise is longer than the previous three.  I recommend first going through it with an eye for speed:  there are quite a few places where I give snippits of code.  You do not need to understand each line to use them -- most of the time you can get away with just copy and pasting, and making a few quick changes.  Once you have made it through, you can then start asking \"why\" certain notation works.</font>"
   ]
  },
  {
   "cell_type": "markdown",
   "metadata": {},
   "source": [
    "<font color=\"blue\">Given the length, we will work through this notebook as a group.  Feel free to follow along, or work on your own.</font>"
   ]
  },
  {
   "cell_type": "markdown",
   "metadata": {},
   "source": [
    "In this notebook we will solve the time dependent Schrodinger equation."
   ]
  },
  {
   "cell_type": "markdown",
   "metadata": {},
   "source": [
    "$$i\\hbar \\partial_t \\psi(x,t)=-\\frac{\\hbar^2}{2m} \\partial_x^2 \\psi(x,t)+V(x) \\psi(x,t)$$"
   ]
  },
  {
   "cell_type": "markdown",
   "metadata": {},
   "source": [
    "The first step is discretizing space, allowing us to replace the functions $\\psi(x)$ with vectors $\\vec\\psi$,"
   ]
  },
  {
   "cell_type": "markdown",
   "metadata": {},
   "source": [
    "$$i \\partial_t\\vec \\psi(t)=H\\vec\\psi(t)$$"
   ]
  },
  {
   "cell_type": "markdown",
   "metadata": {},
   "source": [
    "where we have decided to use units where $\\hbar=1$. "
   ]
  },
  {
   "cell_type": "markdown",
   "metadata": {},
   "source": [
    "The next step is to make a finite difference in time.  There are two Canonical choices that you might have seen:"
   ]
  },
  {
   "cell_type": "markdown",
   "metadata": {},
   "source": [
    "$$ \\mbox{ Euler:}\\quad i\\frac{\\vec\\psi(t+\\delta t)-\\vec \\psi(t)}{\\delta t}= H\\vec\\psi(t)$$"
   ]
  },
  {
   "cell_type": "markdown",
   "metadata": {},
   "source": [
    "$$\\mbox{ Backwards Euler:}\\quad i\\frac{\\vec\\psi(t)-\\vec \\psi(t-\\delta t)}{\\delta t}= H\\vec\\psi(t)$$"
   ]
  },
  {
   "cell_type": "markdown",
   "metadata": {},
   "source": [
    "The Euler method is known as an Explicit method, because it gives $\\psi(t+\\delta t)$ as an explicit function of $\\psi(t)$:"
   ]
  },
  {
   "cell_type": "markdown",
   "metadata": {},
   "source": [
    "$$\\mbox{Euler:}\\quad \\vec\\psi(t+\\delta t)=\\left(1-i H \\delta t\\right)\\vec\\psi(t)$$"
   ]
  },
  {
   "cell_type": "markdown",
   "metadata": {},
   "source": [
    "where the expression in parentheses is just a matrix -- which you know how to construct"
   ]
  },
  {
   "cell_type": "markdown",
   "metadata": {},
   "source": [
    "The Backwards Euler is known as an Implicit method, because it gives a set of linear equations which must be solved to increment time:"
   ]
  },
  {
   "cell_type": "markdown",
   "metadata": {},
   "source": [
    "$$\\mbox{Backward Euler:}\\quad \\left(1+i H \\delta t\\right)\\vec\\psi(t+\\delta t)=\\vec\\psi(t)$$"
   ]
  },
  {
   "cell_type": "markdown",
   "metadata": {},
   "source": [
    "In principle you can increment $\\psi$ by inverting the matrix in parentheses.  In practice it is more efficient to solve this by using Gaussian Elimination."
   ]
  },
  {
   "cell_type": "markdown",
   "metadata": {},
   "source": [
    "Both the Euler and Backwards Euler methods suffer from numerical stability issues:  the normalization of the wavefunction is not conserved.  This can be solved by using a Semi-Implicit method:"
   ]
  },
  {
   "cell_type": "markdown",
   "metadata": {},
   "source": [
    "$$ \\mbox{ Semi-Implicit:}\\quad i\\frac{\\vec\\psi(t+\\delta t)-\\vec \\psi(t)}{\\delta t}= H\\frac{\\vec\\psi(t+\\delta t)+\\vec\\psi(t)}{2}$$"
   ]
  },
  {
   "cell_type": "markdown",
   "metadata": {},
   "source": [
    "This can be rewritten as"
   ]
  },
  {
   "cell_type": "markdown",
   "metadata": {},
   "source": [
    "$$\\mbox{Semi-Implicit:}\\quad \\left(1+\\frac{i H \\delta t}{2}\\right)\\vec\\psi(t+\\delta t)= \\left(1-\\frac{i H \\delta t}{2}\\right)\\vec\\psi(t)$$"
   ]
  },
  {
   "cell_type": "markdown",
   "metadata": {},
   "source": [
    "We will implement this semi-implicit technique -- last recitation we inverted the matrix by hand.  Here we will instead use row reduction to solve this matrix equation at each step."
   ]
  },
  {
   "cell_type": "markdown",
   "metadata": {},
   "source": [
    "## Implementation"
   ]
  },
  {
   "cell_type": "markdown",
   "metadata": {},
   "source": [
    "We wish to solve"
   ]
  },
  {
   "cell_type": "markdown",
   "metadata": {},
   "source": [
    "$$\\left(1+\\frac{i H \\delta t}{2}\\right)\\vec\\psi(t+\\delta t)= \\left(1-\\frac{i H \\delta t}{2}\\right)\\vec\\psi(t)$$"
   ]
  },
  {
   "cell_type": "markdown",
   "metadata": {},
   "source": [
    "First we need our Hamiltonian Matrix.  We will use the finite differences approach to produce a matrix which acts on discretized wavefunctions.  "
   ]
  },
  {
   "cell_type": "markdown",
   "metadata": {},
   "source": [
    "We will store $H$ as a <em>Sparse</em> matrix.  If you do not remember what that means, you should look back at lab 2."
   ]
  },
  {
   "cell_type": "code",
   "execution_count": 185,
   "metadata": {},
   "outputs": [
    {
     "name": "stdout",
     "output_type": "stream",
     "text": [
      "Populating the interactive namespace from numpy and matplotlib\n"
     ]
    }
   ],
   "source": [
    "%pylab inline"
   ]
  },
  {
   "cell_type": "code",
   "execution_count": 186,
   "metadata": {},
   "outputs": [],
   "source": [
    "from __future__ import division  #get rid of integer division bug\n",
    "from scipy.sparse import *  # loads the functions to deal with sparse matrices\n",
    "from showmat import showmat # loads display functions \n",
    "# if you get an error message, download showmat.py and put in directory with notebooks"
   ]
  },
  {
   "cell_type": "markdown",
   "metadata": {},
   "source": [
    "First we make a function which generates the finite difference approximation to the second derivative.  You generated something like this in one of your homeworks."
   ]
  },
  {
   "cell_type": "code",
   "execution_count": 187,
   "metadata": {},
   "outputs": [],
   "source": [
    "# you don't need to do anything here -- just hit shift-enter\n",
    "def SecondDerivMatrix(numpoints,dx,periodic) : \n",
    "    \"\"\"SecondDerivMatrix(numpoints,dx,periodic) returns a sparse matrix\n",
    "    which represents the second derivative -- using a 3-point derivative.  \n",
    "\n",
    "    It takes periodic needed arguments:\n",
    "    numpoints -- an integer which is how many points are in the grid\n",
    "    dx -- the real space lattice spacing\n",
    "    periodic -- do we use periodic boundary conditions?\n",
    "\n",
    "    Setting periodic to \"False\" will give \"hard wall boundaries\"\n",
    "    \"\"\"\n",
    "    unitlist=ones(numpoints)  # just a list of 1's whose length is equal to the length of the grid\n",
    "    if periodic :\n",
    "        return dia_matrix(       # we are generating a sparse matrix by specifying the diagonals\n",
    "            ((unitlist/(dx**2),unitlist/(dx**2),-2*unitlist/(dx**2),unitlist/(dx**2),unitlist/(dx**2)),\n",
    "            (1,-1,0,numpoints-1,1-numpoints)),  # this line specifies which the diagonals\n",
    "            shape=(numpoints,numpoints))\n",
    "    else :\n",
    "        return dia_matrix(       # we are generating a sparse matrix by specifying the diagonals\n",
    "            ((unitlist/(dx**2),unitlist/(dx**2),-2*unitlist/(dx**2)),\n",
    "            (1,-1,0)),  # this line specifies which the diagonals\n",
    "            shape=(numpoints,numpoints))"
   ]
  },
  {
   "cell_type": "markdown",
   "metadata": {},
   "source": [
    "To make this concrete lets generate examples"
   ]
  },
  {
   "cell_type": "code",
   "execution_count": 188,
   "metadata": {},
   "outputs": [],
   "source": [
    "sm=SecondDerivMatrix(numpoints=9,dx=0.5,periodic=False) #make an example"
   ]
  },
  {
   "cell_type": "code",
   "execution_count": 189,
   "metadata": {},
   "outputs": [
    {
     "data": {
      "text/html": [
       "<div style=\"max-width:1000px;max-height:400px;border:1px solid #ccc;font:9px/11px  Courier, monospace;overflow:auto;\"><table><tr><td>-8</td><td>4</td><td></td><td></td><td></td><td></td><td></td><td></td><td></td></tr><tr><td>4</td><td>-8</td><td>4</td><td></td><td></td><td></td><td></td><td></td><td></td></tr><tr><td></td><td>4</td><td>-8</td><td>4</td><td></td><td></td><td></td><td></td><td></td></tr><tr><td></td><td></td><td>4</td><td>-8</td><td>4</td><td></td><td></td><td></td><td></td></tr><tr><td></td><td></td><td></td><td>4</td><td>-8</td><td>4</td><td></td><td></td><td></td></tr><tr><td></td><td></td><td></td><td></td><td>4</td><td>-8</td><td>4</td><td></td><td></td></tr><tr><td></td><td></td><td></td><td></td><td></td><td>4</td><td>-8</td><td>4</td><td></td></tr><tr><td></td><td></td><td></td><td></td><td></td><td></td><td>4</td><td>-8</td><td>4</td></tr><tr><td></td><td></td><td></td><td></td><td></td><td></td><td></td><td>4</td><td>-8</td></tr></table>"
      ],
      "text/plain": [
       "<IPython.core.display.HTML object>"
      ]
     },
     "execution_count": 189,
     "metadata": {},
     "output_type": "execute_result"
    }
   ],
   "source": [
    "showmat(sm.todense()) # look at it"
   ]
  },
  {
   "cell_type": "markdown",
   "metadata": {},
   "source": [
    "If that expression does not make sense, look at the \"Finite Difference Approximation\" notebook."
   ]
  },
  {
   "cell_type": "markdown",
   "metadata": {},
   "source": [
    "Here is the same thing, but with periodic boundary conditions"
   ]
  },
  {
   "cell_type": "code",
   "execution_count": 190,
   "metadata": {},
   "outputs": [],
   "source": [
    "sm2=SecondDerivMatrix(numpoints=9,dx=0.5,periodic=True) #make an example"
   ]
  },
  {
   "cell_type": "code",
   "execution_count": 191,
   "metadata": {},
   "outputs": [
    {
     "data": {
      "text/html": [
       "<div style=\"max-width:1000px;max-height:400px;border:1px solid #ccc;font:9px/11px  Courier, monospace;overflow:auto;\"><table><tr><td>-8</td><td>4</td><td></td><td></td><td></td><td></td><td></td><td></td><td>4</td></tr><tr><td>4</td><td>-8</td><td>4</td><td></td><td></td><td></td><td></td><td></td><td></td></tr><tr><td></td><td>4</td><td>-8</td><td>4</td><td></td><td></td><td></td><td></td><td></td></tr><tr><td></td><td></td><td>4</td><td>-8</td><td>4</td><td></td><td></td><td></td><td></td></tr><tr><td></td><td></td><td></td><td>4</td><td>-8</td><td>4</td><td></td><td></td><td></td></tr><tr><td></td><td></td><td></td><td></td><td>4</td><td>-8</td><td>4</td><td></td><td></td></tr><tr><td></td><td></td><td></td><td></td><td></td><td>4</td><td>-8</td><td>4</td><td></td></tr><tr><td></td><td></td><td></td><td></td><td></td><td></td><td>4</td><td>-8</td><td>4</td></tr><tr><td>4</td><td></td><td></td><td></td><td></td><td></td><td></td><td>4</td><td>-8</td></tr></table>"
      ],
      "text/plain": [
       "<IPython.core.display.HTML object>"
      ]
     },
     "execution_count": 191,
     "metadata": {},
     "output_type": "execute_result"
    }
   ],
   "source": [
    "showmat(sm2.todense()) # look at it"
   ]
  },
  {
   "cell_type": "markdown",
   "metadata": {},
   "source": [
    "<font color=red>What is the difference between the case with and without periodic boundary conditions? </font> "
   ]
  },
  {
   "cell_type": "markdown",
   "metadata": {},
   "source": [
    "<font color=red>In the case of the first matrix, we don't influde the corner terms so we extrapolate the outside points using only the current point. The second matrix takes the value at the end points of the wavefunction which is good because it allows us to extrapolate on more than just the inside points by assuming the function is harmonic. </font>"
   ]
  },
  {
   "cell_type": "markdown",
   "metadata": {},
   "source": [
    "Next we make a function which generates the finite difference approximation to the operator V(x).  This is a diagonal matrix:"
   ]
  },
  {
   "cell_type": "markdown",
   "metadata": {},
   "source": [
    "$$\n",
    "\\left(\n",
    "\\begin{array}{ccccc}\n",
    "V(x_1)&0&\\cdots&&\\cr\n",
    "0&V(x_2)&0&0&\\cdots\\cr\n",
    "0&0&V(x_3)&0&\\cdots\\cr\n",
    "\\vdots\\cr\n",
    "\\vdots&&&&V(x_n)\n",
    "\\end{array}\n",
    "\\right)\n",
    "\\left(\n",
    "\\begin{array}{c}\n",
    "\\psi(x_1)\\cr\n",
    "\\psi(x_2)\\cr\n",
    "\\psi(x_3)\\cr\n",
    "\\vdots\\cr\n",
    "\\psi(x_n)\n",
    "\\end{array}\n",
    "\\right)=\n",
    "\\left(\n",
    "\\begin{array}{c}\n",
    "V(x_1)\\psi(x_1)\\cr\n",
    "V(x_2)\\psi(x_2)\\cr\n",
    "V(x_3)\\psi(x_3)\\cr\n",
    "\\vdots\\cr\n",
    "V(x_n)\\psi(x_n)\n",
    "\\end{array}\\right)\n",
    "$$\n"
   ]
  },
  {
   "cell_type": "code",
   "execution_count": 192,
   "metadata": {},
   "outputs": [],
   "source": [
    "def PotentialMatrix(potential):\n",
    "    \"\"\"PotentialMatrix(potential)\n",
    "    generates a finite difference approximation to the operator V(x).\n",
    "    It is called by the following arguments:\n",
    "    potential -- the list of the potential values\n",
    "    \"\"\"\n",
    "\n",
    "    ln=len(potential)\n",
    "    return dia_matrix((potential,0),shape=(ln,ln))"
   ]
  },
  {
   "cell_type": "markdown",
   "metadata": {},
   "source": [
    "Next, we want an example potential matrix -- lets use a harmonic oscillator"
   ]
  },
  {
   "cell_type": "code",
   "execution_count": 193,
   "metadata": {},
   "outputs": [
    {
     "data": {
      "text/plain": [
       "array([-2. , -1.5, -1. , -0.5,  0. ,  0.5,  1. ,  1.5])"
      ]
     },
     "execution_count": 193,
     "metadata": {},
     "output_type": "execute_result"
    }
   ],
   "source": [
    "xlist=arange(-2,2,0.5)\n",
    "xlist"
   ]
  },
  {
   "cell_type": "code",
   "execution_count": 194,
   "metadata": {},
   "outputs": [
    {
     "data": {
      "text/plain": [
       "array([2.   , 1.125, 0.5  , 0.125, 0.   , 0.125, 0.5  , 1.125])"
      ]
     },
     "execution_count": 194,
     "metadata": {},
     "output_type": "execute_result"
    }
   ],
   "source": [
    "vlist=xlist**2/2\n",
    "vlist"
   ]
  },
  {
   "cell_type": "code",
   "execution_count": 195,
   "metadata": {},
   "outputs": [
    {
     "data": {
      "text/html": [
       "<div style=\"max-width:1000px;max-height:400px;border:1px solid #ccc;font:9px/11px  Courier, monospace;overflow:auto;\"><table><tr><td>2</td><td></td><td></td><td></td><td></td><td></td><td></td><td></td></tr><tr><td></td><td>1.12</td><td></td><td></td><td></td><td></td><td></td><td></td></tr><tr><td></td><td></td><td>0.5</td><td></td><td></td><td></td><td></td><td></td></tr><tr><td></td><td></td><td></td><td>0.12</td><td></td><td></td><td></td><td></td></tr><tr><td></td><td></td><td></td><td></td><td></td><td></td><td></td><td></td></tr><tr><td></td><td></td><td></td><td></td><td></td><td>0.12</td><td></td><td></td></tr><tr><td></td><td></td><td></td><td></td><td></td><td></td><td>0.5</td><td></td></tr><tr><td></td><td></td><td></td><td></td><td></td><td></td><td></td><td>1.12</td></tr></table>"
      ],
      "text/plain": [
       "<IPython.core.display.HTML object>"
      ]
     },
     "execution_count": 195,
     "metadata": {},
     "output_type": "execute_result"
    }
   ],
   "source": [
    "pm=PotentialMatrix(vlist)\n",
    "showmat(pm.todense())"
   ]
  },
  {
   "cell_type": "markdown",
   "metadata": {},
   "source": [
    "Finally we put it all together"
   ]
  },
  {
   "cell_type": "code",
   "execution_count": 196,
   "metadata": {},
   "outputs": [],
   "source": [
    "# just hit shift-enter.  \n",
    "\n",
    "def HamiltonianMatrix(potential,dx,periodic=True,hbar=1,mass=1):\n",
    "    \"\"\"HamiltonianMatrix(potential,dx,hbar=1,mass=1)\n",
    "    generates a finite difference approximation to the hamiltonian operator H\n",
    "    for the case of a single particle in a potential V(x)\n",
    "\n",
    "    It is called by the following required arguments:\n",
    "    potential -- a list of values for the potential\n",
    "    dx -- the grid spacing\n",
    "    \n",
    "    It also has two optional arguments, which are assumed to be equal to unity if they\n",
    "    are not specified\n",
    "    hbar -- Planck's constant divided by 2 pi\n",
    "    mass -- the particle mass\n",
    "    \"\"\"\n",
    "    numpoints=len(potential)\n",
    "    kin=-(0.5*hbar**2/mass)*SecondDerivMatrix(numpoints=numpoints,dx=dx,periodic=periodic) # calculate kinetic energy operator\n",
    "    pot=PotentialMatrix(potential) #calculate potential energy operator\n",
    "    return kin+pot"
   ]
  },
  {
   "cell_type": "markdown",
   "metadata": {},
   "source": [
    "As another example, lets create a particle in a box Hamiltonian"
   ]
  },
  {
   "cell_type": "code",
   "execution_count": 197,
   "metadata": {},
   "outputs": [
    {
     "data": {
      "text/html": [
       "<div style=\"max-width:1000px;max-height:400px;border:1px solid #ccc;font:9px/11px  Courier, monospace;overflow:auto;\"><table><tr><td>$1.0\\cdot10^{3}$</td><td>-506.61</td><td></td><td></td><td></td><td></td><td></td><td></td><td></td><td></td><td></td><td></td><td></td><td></td><td></td><td></td><td></td><td></td><td></td><td></td></tr><tr><td>-506.61</td><td>$1.0\\cdot10^{3}$</td><td>-506.61</td><td></td><td></td><td></td><td></td><td></td><td></td><td></td><td></td><td></td><td></td><td></td><td></td><td></td><td></td><td></td><td></td><td></td></tr><tr><td></td><td>-506.61</td><td>$1.0\\cdot10^{3}$</td><td>-506.61</td><td></td><td></td><td></td><td></td><td></td><td></td><td></td><td></td><td></td><td></td><td></td><td></td><td></td><td></td><td></td><td></td></tr><tr><td></td><td></td><td>-506.61</td><td>$1.0\\cdot10^{3}$</td><td>-506.61</td><td></td><td></td><td></td><td></td><td></td><td></td><td></td><td></td><td></td><td></td><td></td><td></td><td></td><td></td><td></td></tr><tr><td></td><td></td><td></td><td>-506.61</td><td>$1.0\\cdot10^{3}$</td><td>-506.61</td><td></td><td></td><td></td><td></td><td></td><td></td><td></td><td></td><td></td><td></td><td></td><td></td><td></td><td></td></tr><tr><td></td><td></td><td></td><td></td><td>-506.61</td><td>$1.0\\cdot10^{3}$</td><td>-506.61</td><td></td><td></td><td></td><td></td><td></td><td></td><td></td><td></td><td></td><td></td><td></td><td></td><td></td></tr><tr><td></td><td></td><td></td><td></td><td></td><td>-506.61</td><td>$1.0\\cdot10^{3}$</td><td>-506.61</td><td></td><td></td><td></td><td></td><td></td><td></td><td></td><td></td><td></td><td></td><td></td><td></td></tr><tr><td></td><td></td><td></td><td></td><td></td><td></td><td>-506.61</td><td>$1.0\\cdot10^{3}$</td><td>-506.61</td><td></td><td></td><td></td><td></td><td></td><td></td><td></td><td></td><td></td><td></td><td></td></tr><tr><td></td><td></td><td></td><td></td><td></td><td></td><td></td><td>-506.61</td><td>$1.0\\cdot10^{3}$</td><td>-506.61</td><td></td><td></td><td></td><td></td><td></td><td></td><td></td><td></td><td></td><td></td></tr><tr><td></td><td></td><td></td><td></td><td></td><td></td><td></td><td></td><td>-506.61</td><td>$1.0\\cdot10^{3}$</td><td>-506.61</td><td></td><td></td><td></td><td></td><td></td><td></td><td></td><td></td><td></td></tr><tr><td></td><td></td><td></td><td></td><td></td><td></td><td></td><td></td><td></td><td>-506.61</td><td>$1.0\\cdot10^{3}$</td><td>-506.61</td><td></td><td></td><td></td><td></td><td></td><td></td><td></td><td></td></tr><tr><td></td><td></td><td></td><td></td><td></td><td></td><td></td><td></td><td></td><td></td><td>-506.61</td><td>$1.0\\cdot10^{3}$</td><td>-506.61</td><td></td><td></td><td></td><td></td><td></td><td></td><td></td></tr><tr><td></td><td></td><td></td><td></td><td></td><td></td><td></td><td></td><td></td><td></td><td></td><td>-506.61</td><td>$1.0\\cdot10^{3}$</td><td>-506.61</td><td></td><td></td><td></td><td></td><td></td><td></td></tr><tr><td></td><td></td><td></td><td></td><td></td><td></td><td></td><td></td><td></td><td></td><td></td><td></td><td>-506.61</td><td>$1.0\\cdot10^{3}$</td><td>-506.61</td><td></td><td></td><td></td><td></td><td></td></tr><tr><td></td><td></td><td></td><td></td><td></td><td></td><td></td><td></td><td></td><td></td><td></td><td></td><td></td><td>-506.61</td><td>$1.0\\cdot10^{3}$</td><td>-506.61</td><td></td><td></td><td></td><td></td></tr><tr><td></td><td></td><td></td><td></td><td></td><td></td><td></td><td></td><td></td><td></td><td></td><td></td><td></td><td></td><td>-506.61</td><td>$1.0\\cdot10^{3}$</td><td>-506.61</td><td></td><td></td><td></td></tr><tr><td></td><td></td><td></td><td></td><td></td><td></td><td></td><td></td><td></td><td></td><td></td><td></td><td></td><td></td><td></td><td>-506.61</td><td>$1.0\\cdot10^{3}$</td><td>-506.61</td><td></td><td></td></tr><tr><td></td><td></td><td></td><td></td><td></td><td></td><td></td><td></td><td></td><td></td><td></td><td></td><td></td><td></td><td></td><td></td><td>-506.61</td><td>$1.0\\cdot10^{3}$</td><td>-506.61</td><td></td></tr><tr><td></td><td></td><td></td><td></td><td></td><td></td><td></td><td></td><td></td><td></td><td></td><td></td><td></td><td></td><td></td><td></td><td></td><td>-506.61</td><td>$1.0\\cdot10^{3}$</td><td>-506.61</td></tr><tr><td></td><td></td><td></td><td></td><td></td><td></td><td></td><td></td><td></td><td></td><td></td><td></td><td></td><td></td><td></td><td></td><td></td><td></td><td>-506.61</td><td>$1.0\\cdot10^{3}$</td></tr></table>"
      ],
      "text/plain": [
       "<IPython.core.display.HTML object>"
      ]
     },
     "execution_count": 197,
     "metadata": {},
     "output_type": "execute_result"
    }
   ],
   "source": [
    "xgrid=arange(0,pi,0.01*pi)\n",
    "pot=zeros(len(xgrid))\n",
    "\n",
    "hardwallham=HamiltonianMatrix(potential=pot,dx=0.01*pi,periodic=False)\n",
    "showmat(hardwallham[:20,:20].todense()) # shows the upper 20x20 block of the matrix "
   ]
  },
  {
   "cell_type": "markdown",
   "metadata": {},
   "source": [
    "<font color=red>In the following cell create a matrix which corresponds to a Harmonic oscillator Hamiltonian.  Use units where $\\omega=\\hbar=m=1$, take the minimum of the oscillator to be at $x=\\pi/2$, and use a grid with 100 points, with $0\\leq x\\leq \\pi$.  Use showmat to view the upper $20\\times20$ cells of the matrix</font>"
   ]
  },
  {
   "cell_type": "code",
   "execution_count": 198,
   "metadata": {},
   "outputs": [
    {
     "data": {
      "text/plain": [
       "array([1.23370055e+00, 1.18484601e+00, 1.13697843e+00, 1.09009781e+00,\n",
       "       1.04420415e+00, 9.99297446e-01, 9.55377706e-01, 9.12444927e-01,\n",
       "       8.70499108e-01, 8.29540250e-01, 7.89568352e-01, 7.50583415e-01,\n",
       "       7.12585438e-01, 6.75574421e-01, 6.39550365e-01, 6.04513270e-01,\n",
       "       5.70463134e-01, 5.37399960e-01, 5.05323745e-01, 4.74234491e-01,\n",
       "       4.44132198e-01, 4.15016865e-01, 3.86888493e-01, 3.59747080e-01,\n",
       "       3.33592629e-01, 3.08425138e-01, 2.84244607e-01, 2.61051036e-01,\n",
       "       2.38844427e-01, 2.17624777e-01, 1.97392088e-01, 1.78146359e-01,\n",
       "       1.59887591e-01, 1.42615784e-01, 1.26330936e-01, 1.11033050e-01,\n",
       "       9.67221231e-02, 8.33981572e-02, 7.10611517e-02, 5.97111066e-02,\n",
       "       4.93480220e-02, 3.99718978e-02, 3.15827341e-02, 2.41805308e-02,\n",
       "       1.77652879e-02, 1.23370055e-02, 7.89568352e-03, 4.44132198e-03,\n",
       "       1.97392088e-03, 4.93480220e-04, 2.46519033e-32, 4.93480220e-04,\n",
       "       1.97392088e-03, 4.44132198e-03, 7.89568352e-03, 1.23370055e-02,\n",
       "       1.77652879e-02, 2.41805308e-02, 3.15827341e-02, 3.99718978e-02,\n",
       "       4.93480220e-02, 5.97111066e-02, 7.10611517e-02, 8.33981572e-02,\n",
       "       9.67221231e-02, 1.11033050e-01, 1.26330936e-01, 1.42615784e-01,\n",
       "       1.59887591e-01, 1.78146359e-01, 1.97392088e-01, 2.17624777e-01,\n",
       "       2.38844427e-01, 2.61051036e-01, 2.84244607e-01, 3.08425138e-01,\n",
       "       3.33592629e-01, 3.59747080e-01, 3.86888493e-01, 4.15016865e-01,\n",
       "       4.44132198e-01, 4.74234491e-01, 5.05323745e-01, 5.37399960e-01,\n",
       "       5.70463134e-01, 6.04513270e-01, 6.39550365e-01, 6.75574421e-01,\n",
       "       7.12585438e-01, 7.50583415e-01, 7.89568352e-01, 8.29540250e-01,\n",
       "       8.70499108e-01, 9.12444927e-01, 9.55377706e-01, 9.99297446e-01,\n",
       "       1.04420415e+00, 1.09009781e+00, 1.13697843e+00, 1.18484601e+00])"
      ]
     },
     "execution_count": 198,
     "metadata": {},
     "output_type": "execute_result"
    }
   ],
   "source": [
    "xgrid=arange(0,pi,0.01*pi)\n",
    "pot=((xgrid-pi/2)**2/2)\n",
    "pot\n"
   ]
  },
  {
   "cell_type": "code",
   "execution_count": 199,
   "metadata": {},
   "outputs": [
    {
     "data": {
      "text/html": [
       "<div style=\"max-width:1000px;max-height:400px;border:1px solid #ccc;font:9px/11px  Courier, monospace;overflow:auto;\"><table><tr><td>$1.0\\cdot10^{3}$</td><td>-506.61</td><td></td><td></td><td></td><td></td><td></td><td></td><td></td><td></td><td></td><td></td><td></td><td></td><td></td><td></td><td></td><td></td><td></td><td></td></tr><tr><td>-506.61</td><td>$1.0\\cdot10^{3}$</td><td>-506.61</td><td></td><td></td><td></td><td></td><td></td><td></td><td></td><td></td><td></td><td></td><td></td><td></td><td></td><td></td><td></td><td></td><td></td></tr><tr><td></td><td>-506.61</td><td>$1.0\\cdot10^{3}$</td><td>-506.61</td><td></td><td></td><td></td><td></td><td></td><td></td><td></td><td></td><td></td><td></td><td></td><td></td><td></td><td></td><td></td><td></td></tr><tr><td></td><td></td><td>-506.61</td><td>$1.0\\cdot10^{3}$</td><td>-506.61</td><td></td><td></td><td></td><td></td><td></td><td></td><td></td><td></td><td></td><td></td><td></td><td></td><td></td><td></td><td></td></tr><tr><td></td><td></td><td></td><td>-506.61</td><td>$1.0\\cdot10^{3}$</td><td>-506.61</td><td></td><td></td><td></td><td></td><td></td><td></td><td></td><td></td><td></td><td></td><td></td><td></td><td></td><td></td></tr><tr><td></td><td></td><td></td><td></td><td>-506.61</td><td>$1.0\\cdot10^{3}$</td><td>-506.61</td><td></td><td></td><td></td><td></td><td></td><td></td><td></td><td></td><td></td><td></td><td></td><td></td><td></td></tr><tr><td></td><td></td><td></td><td></td><td></td><td>-506.61</td><td>$1.0\\cdot10^{3}$</td><td>-506.61</td><td></td><td></td><td></td><td></td><td></td><td></td><td></td><td></td><td></td><td></td><td></td><td></td></tr><tr><td></td><td></td><td></td><td></td><td></td><td></td><td>-506.61</td><td>$1.0\\cdot10^{3}$</td><td>-506.61</td><td></td><td></td><td></td><td></td><td></td><td></td><td></td><td></td><td></td><td></td><td></td></tr><tr><td></td><td></td><td></td><td></td><td></td><td></td><td></td><td>-506.61</td><td>$1.0\\cdot10^{3}$</td><td>-506.61</td><td></td><td></td><td></td><td></td><td></td><td></td><td></td><td></td><td></td><td></td></tr><tr><td></td><td></td><td></td><td></td><td></td><td></td><td></td><td></td><td>-506.61</td><td>$1.0\\cdot10^{3}$</td><td>-506.61</td><td></td><td></td><td></td><td></td><td></td><td></td><td></td><td></td><td></td></tr><tr><td></td><td></td><td></td><td></td><td></td><td></td><td></td><td></td><td></td><td>-506.61</td><td>$1.0\\cdot10^{3}$</td><td>-506.61</td><td></td><td></td><td></td><td></td><td></td><td></td><td></td><td></td></tr><tr><td></td><td></td><td></td><td></td><td></td><td></td><td></td><td></td><td></td><td></td><td>-506.61</td><td>$1.0\\cdot10^{3}$</td><td>-506.61</td><td></td><td></td><td></td><td></td><td></td><td></td><td></td></tr><tr><td></td><td></td><td></td><td></td><td></td><td></td><td></td><td></td><td></td><td></td><td></td><td>-506.61</td><td>$1.0\\cdot10^{3}$</td><td>-506.61</td><td></td><td></td><td></td><td></td><td></td><td></td></tr><tr><td></td><td></td><td></td><td></td><td></td><td></td><td></td><td></td><td></td><td></td><td></td><td></td><td>-506.61</td><td>$1.0\\cdot10^{3}$</td><td>-506.61</td><td></td><td></td><td></td><td></td><td></td></tr><tr><td></td><td></td><td></td><td></td><td></td><td></td><td></td><td></td><td></td><td></td><td></td><td></td><td></td><td>-506.61</td><td>$1.0\\cdot10^{3}$</td><td>-506.61</td><td></td><td></td><td></td><td></td></tr><tr><td></td><td></td><td></td><td></td><td></td><td></td><td></td><td></td><td></td><td></td><td></td><td></td><td></td><td></td><td>-506.61</td><td>$1.0\\cdot10^{3}$</td><td>-506.61</td><td></td><td></td><td></td></tr><tr><td></td><td></td><td></td><td></td><td></td><td></td><td></td><td></td><td></td><td></td><td></td><td></td><td></td><td></td><td></td><td>-506.61</td><td>$1.0\\cdot10^{3}$</td><td>-506.61</td><td></td><td></td></tr><tr><td></td><td></td><td></td><td></td><td></td><td></td><td></td><td></td><td></td><td></td><td></td><td></td><td></td><td></td><td></td><td></td><td>-506.61</td><td>$1.0\\cdot10^{3}$</td><td>-506.61</td><td></td></tr><tr><td></td><td></td><td></td><td></td><td></td><td></td><td></td><td></td><td></td><td></td><td></td><td></td><td></td><td></td><td></td><td></td><td></td><td>-506.61</td><td>$1.0\\cdot10^{3}$</td><td>-506.61</td></tr><tr><td></td><td></td><td></td><td></td><td></td><td></td><td></td><td></td><td></td><td></td><td></td><td></td><td></td><td></td><td></td><td></td><td></td><td></td><td>-506.61</td><td>$1.0\\cdot10^{3}$</td></tr></table>"
      ],
      "text/plain": [
       "<IPython.core.display.HTML object>"
      ]
     },
     "execution_count": 199,
     "metadata": {},
     "output_type": "execute_result"
    }
   ],
   "source": [
    "\n",
    "hardwallham_2=HamiltonianMatrix(potential=pot,dx=0.01*pi,periodic=False)\n",
    "showmat(hardwallham_2[:20,:20].todense()) # shows the upper 20x20 block of the matrix "
   ]
  },
  {
   "cell_type": "markdown",
   "metadata": {},
   "source": [
    "Lets also create a wavepacket to start with"
   ]
  },
  {
   "cell_type": "code",
   "execution_count": 200,
   "metadata": {},
   "outputs": [],
   "source": [
    "def wavepacket(xgrid,x,k,width):\n",
    "    return exp(1.j*k*xgrid-(xgrid-x)**2/(2*width**2))"
   ]
  },
  {
   "cell_type": "code",
   "execution_count": 201,
   "metadata": {},
   "outputs": [
    {
     "data": {
      "text/plain": [
       "[<matplotlib.lines.Line2D at 0xbb0dbae90>]"
      ]
     },
     "execution_count": 201,
     "metadata": {},
     "output_type": "execute_result"
    },
    {
     "data": {
      "image/png": "[encoded data removed]",
      "text/plain": [
       "<Figure size 432x288 with 1 Axes>"
      ]
     },
     "metadata": {
      "needs_background": "light"
     },
     "output_type": "display_data"
    }
   ],
   "source": [
    "wavefunction=wavepacket(xgrid,x=pi/2,k=30,width=pi/8)\n",
    "# plot it\n",
    "fill_between(xgrid,abs(wavefunction),-abs(wavefunction),alpha=1,color=\"yellow\")\n",
    "plot(xgrid,real(wavefunction),color=\"blue\")\n",
    "plot(xgrid,imag(wavefunction),color=\"red\")"
   ]
  },
  {
   "cell_type": "markdown",
   "metadata": {},
   "source": [
    "## Visualization"
   ]
  },
  {
   "cell_type": "markdown",
   "metadata": {},
   "source": [
    "We now load an animation package"
   ]
  },
  {
   "cell_type": "code",
   "execution_count": 202,
   "metadata": {},
   "outputs": [],
   "source": [
    "%gui tk  \n",
    "# setup the ipython notebook so that it can generate graphics windows using the tk backend"
   ]
  },
  {
   "cell_type": "code",
   "execution_count": 203,
   "metadata": {},
   "outputs": [],
   "source": [
    "import TDSEviewer3  # load the module that has the Schrodinger equation viewer\n",
    "from TDSEviewer3 import *  # loads those functions into the main namespace"
   ]
  },
  {
   "cell_type": "markdown",
   "metadata": {},
   "source": [
    "Run the following cell to create a viewer window.  A window should pop up.  The blue line represents the real part of the wavefunction, the green the imaginary"
   ]
  },
  {
   "cell_type": "code",
   "execution_count": 204,
   "metadata": {},
   "outputs": [],
   "source": [
    "viewer=TDSEviewer(wavefunction=wavefunction,grid=xgrid)  # open up a viewer window"
   ]
  },
  {
   "cell_type": "markdown",
   "metadata": {},
   "source": [
    "The following cell resets the viewer window to its original state.  Run it whenever you want to reset things"
   ]
  },
  {
   "cell_type": "code",
   "execution_count": 205,
   "metadata": {},
   "outputs": [],
   "source": [
    "viewer.wavefunction=wavefunction  \n",
    "viewer.updatelines()"
   ]
  },
  {
   "cell_type": "markdown",
   "metadata": {},
   "source": [
    "Lets now make a little program which animates a changing wavefunction.  This is just a made-up dynamics to illustrate how the program works"
   ]
  },
  {
   "cell_type": "code",
   "execution_count": 206,
   "metadata": {},
   "outputs": [],
   "source": [
    "# initialize\n",
    "t=0.\n",
    "dt1=0.2\n",
    "viewer.ylim(-1.1,1.1)\n",
    "viewer.force_redraw()\n",
    "\n",
    "# loop over timesteps\n",
    "while t<2.:\n",
    "    viewer.wavefunction=cos(xgrid+t)+1j*sin(xgrid+t)\n",
    "    viewer.updatelines()\n",
    "    viewer.set_title(t)\n",
    "    t=t+dt1\n",
    "viewer.force_redraw()"
   ]
  },
  {
   "cell_type": "markdown",
   "metadata": {},
   "source": [
    "<font color=red>Copy the code from the previous line, and modify it so that the running waves move in the other direction.</font>"
   ]
  },
  {
   "cell_type": "code",
   "execution_count": 207,
   "metadata": {},
   "outputs": [],
   "source": [
    "# initialize\n",
    "t=0.\n",
    "dt1=0.2\n",
    "viewer.ylim(-1.1,1.1)\n",
    "viewer.force_redraw()\n",
    "\n",
    "# loop over timesteps\n",
    "while t<2.:\n",
    "    viewer.wavefunction=cos(xgrid-t)+1j*sin(xgrid-t)\n",
    "    viewer.updatelines()\n",
    "    viewer.set_title(t)\n",
    "    t=t+dt1\n",
    "viewer.force_redraw()"
   ]
  },
  {
   "cell_type": "markdown",
   "metadata": {},
   "source": [
    "We then close the window"
   ]
  },
  {
   "cell_type": "code",
   "execution_count": 208,
   "metadata": {},
   "outputs": [],
   "source": [
    "viewer.close()"
   ]
  },
  {
   "cell_type": "markdown",
   "metadata": {},
   "source": [
    "Our next step is to animate evolution coming from "
   ]
  },
  {
   "cell_type": "markdown",
   "metadata": {},
   "source": [
    "$$\\left(1+iH \\delta t/2\\right) \\psi(t+\\delta t)=\\left(1-iH\\delta t/2\\right)\\psi(t)$$"
   ]
  },
  {
   "cell_type": "code",
   "execution_count": 209,
   "metadata": {},
   "outputs": [],
   "source": [
    "import scipy.sparse.linalg as linalg\n",
    "import scipy.sparse as sparse"
   ]
  },
  {
   "cell_type": "code",
   "execution_count": 210,
   "metadata": {},
   "outputs": [],
   "source": [
    "# Hit shift-enter to generate the functions needed to evolve the wavefunction\n",
    "# This uses a very efficient linear-algebra algorithm known as LU decomposition\n",
    "\n",
    "dt=0.001  # set time step\n",
    "\n",
    "dx=0.01*pi  # set x step\n",
    "xgrid=arange(0,pi,dx)  # generate grid\n",
    "pot=zeros(len(xgrid))  # generate potential\n",
    "hardwallham=HamiltonianMatrix(potential=pot,dx=dx,periodic=False) #make Hamiltonian\n",
    "\n",
    "csrham=csc_matrix(hardwallham)                              # convert to more efficient format\n",
    "hamsize=hardwallham.shape[0]                                # figure out how big the matrix is\n",
    "LHSOperator=sparse.identity(hamsize,dtype=complex,format=\"csc\")+0.5j*dt*csrham # Operator on Left\n",
    "inverseLHS=linalg.factorized(LHSOperator) # A function which essentially acts like the inverse matrix\n",
    "RHSOperator=sparse.identity(hamsize,dtype=complex,format=\"csc\")-0.5j*dt*csrham # Operator on right"
   ]
  },
  {
   "cell_type": "markdown",
   "metadata": {},
   "source": [
    "With these operators we can do time evolution as follows:"
   ]
  },
  {
   "cell_type": "code",
   "execution_count": 211,
   "metadata": {},
   "outputs": [],
   "source": [
    "viewer=TDSEviewer(wavefunction=wavefunction,grid=xgrid)  # open up a viewer window\n",
    "viewer.reset()"
   ]
  },
  {
   "cell_type": "markdown",
   "metadata": {},
   "source": [
    "Make window bigger (you can also do this by dragging)"
   ]
  },
  {
   "cell_type": "code",
   "execution_count": 212,
   "metadata": {},
   "outputs": [],
   "source": [
    "viewer.set_geometry(1000,500)"
   ]
  },
  {
   "cell_type": "markdown",
   "metadata": {},
   "source": [
    "The slowest part of the algorithm is actually plotting the curve, so here is a trick which plots only every 10th interation "
   ]
  },
  {
   "cell_type": "code",
   "execution_count": 213,
   "metadata": {},
   "outputs": [],
   "source": [
    "# initialize\n",
    "t=0.\n",
    "viewer.ylim(-1,1)\n",
    "viewer.wavefunction=wavefunction\n",
    "viewer.xlim(0,pi)\n",
    "\n",
    "counter=0\n",
    "# loop over timesteps\n",
    "while t<1.:\n",
    "    viewer.wavefunction=inverseLHS(RHSOperator.dot(viewer.wavefunction))\n",
    "    if counter%10==0:\n",
    "        viewer.updatelines()\n",
    "        viewer.set_title(t)\n",
    "    t=t+dt\n",
    "    counter=counter+1\n",
    "\n",
    "viewer.force_redraw()"
   ]
  },
  {
   "cell_type": "markdown",
   "metadata": {},
   "source": [
    "You can access the data directly, as shown by the following cell.  "
   ]
  },
  {
   "cell_type": "code",
   "execution_count": 214,
   "metadata": {},
   "outputs": [
    {
     "data": {
      "text/plain": [
       "[<matplotlib.lines.Line2D at 0xa2c9f7d10>]"
      ]
     },
     "execution_count": 214,
     "metadata": {},
     "output_type": "execute_result"
    },
    {
     "data": {
      "image/png": "[encoded data removed]",
      "text/plain": [
       "<Figure size 432x288 with 1 Axes>"
      ]
     },
     "metadata": {
      "needs_background": "light"
     },
     "output_type": "display_data"
    }
   ],
   "source": [
    "plot(abs(viewer.wavefunction)**2)"
   ]
  },
  {
   "cell_type": "markdown",
   "metadata": {},
   "source": [
    "Close the viewer"
   ]
  },
  {
   "cell_type": "code",
   "execution_count": 215,
   "metadata": {},
   "outputs": [],
   "source": [
    "viewer.close()"
   ]
  },
  {
   "cell_type": "markdown",
   "metadata": {},
   "source": [
    "<h2> Some Tricks </h2>"
   ]
  },
  {
   "cell_type": "markdown",
   "metadata": {},
   "source": [
    "Suppose you wanted to store every wavefunction as it is generated, you might do something like"
   ]
  },
  {
   "cell_type": "code",
   "execution_count": 216,
   "metadata": {},
   "outputs": [],
   "source": [
    "viewer=TDSEviewer()"
   ]
  },
  {
   "cell_type": "code",
   "execution_count": 217,
   "metadata": {},
   "outputs": [],
   "source": [
    "# initialize\n",
    "t=0.\n",
    "\n",
    "dt=0.001 # set time step\n",
    "\n",
    "dx=0.01*pi\n",
    "xgrid=arange(0,pi,dx)\n",
    "pot=zeros(len(xgrid))\n",
    "hardwallham=HamiltonianMatrix(potential=pot,dx=dx,periodic=False) #make Hamiltonian\n",
    "\n",
    "csrham=csc_matrix(hardwallham)                              # convert to more efficient format\n",
    "hamsize=hardwallham.shape[0]\n",
    "LHSOperator=sparse.identity(hamsize,dtype=complex,format=\"csc\")+0.5j*dt*csrham # Operator on Left\n",
    "inverseLHS=linalg.factorized(LHSOperator) # A function which essentially acts like the inverse matrix\n",
    "RHSOperator=sparse.identity(hamsize,dtype=complex,format=\"csc\")-0.5j*dt*csrham # Operator on right\n",
    "\n",
    "\n",
    "viewer.wavefunction=wavepacket(xgrid,x=pi/2,k=30,width=pi/8)\n",
    "viewer.grid=xgrid\n",
    "viewer.xlim(0,pi)\n",
    "viewer.ylim(-2,2)\n",
    "viewer.dx=dx\n",
    "viewer.force_redraw()\n",
    "\n",
    "\n",
    "timeseries=[] # list which will contain the wavefunctions\n",
    "\n",
    "counter=0\n",
    "# loop over timesteps\n",
    "while t<1.5:\n",
    "    viewer.wavefunction=inverseLHS(RHSOperator.dot(viewer.wavefunction))\n",
    "    #viewer.rescale()\n",
    "    timeseries.append([t,viewer.wavefunction])\n",
    "    if counter%20==0:\n",
    "        viewer.set_title(t)\n",
    "        viewer.updatelines()\n",
    "    t=t+dt\n",
    "    counter=counter+1\n",
    "    "
   ]
  },
  {
   "cell_type": "code",
   "execution_count": 218,
   "metadata": {},
   "outputs": [],
   "source": [
    "viewer.force_redraw()"
   ]
  },
  {
   "cell_type": "code",
   "execution_count": 219,
   "metadata": {},
   "outputs": [],
   "source": [
    "viewer.close()"
   ]
  },
  {
   "cell_type": "markdown",
   "metadata": {},
   "source": [
    "If we just want the wavefunctions (and not the times) we can unpack the data using a \"list comprehension\""
   ]
  },
  {
   "cell_type": "code",
   "execution_count": 220,
   "metadata": {},
   "outputs": [],
   "source": [
    "wfseries=array([wf for time,wf in timeseries])"
   ]
  },
  {
   "cell_type": "markdown",
   "metadata": {},
   "source": [
    "This can then be shown in a density plot"
   ]
  },
  {
   "cell_type": "code",
   "execution_count": 221,
   "metadata": {},
   "outputs": [
    {
     "data": {
      "text/plain": [
       "Text(0,0.5,'t')"
      ]
     },
     "execution_count": 221,
     "metadata": {},
     "output_type": "execute_result"
    },
    {
     "data": {
      "image/png": "[encoded data removed]",
      "text/plain": [
       "<Figure size 432x288 with 1 Axes>"
      ]
     },
     "metadata": {
      "needs_background": "light"
     },
     "output_type": "display_data"
    }
   ],
   "source": [
    "imshow(abs(wfseries),aspect=2,origin=\"lower\",extent=(0,pi,0,t))\n",
    "xlabel(\"x\")\n",
    "ylabel(\"t\")"
   ]
  },
  {
   "cell_type": "markdown",
   "metadata": {},
   "source": [
    "<font color=red><b> Problem:</b> Give a qualitative description of this behavior, and explain the main features.</font>"
   ]
  },
  {
   "cell_type": "markdown",
   "metadata": {},
   "source": [
    "<em> The particle is bouncing from wall to wall </em>"
   ]
  },
  {
   "cell_type": "markdown",
   "metadata": {},
   "source": [
    "<font color=red><b> Problem:</b> Make a plot like this with periodic boundary conditions instead of hard wall.</font>"
   ]
  },
  {
   "cell_type": "code",
   "execution_count": 222,
   "metadata": {},
   "outputs": [],
   "source": [
    "viewer=TDSEviewer()\n",
    "\n",
    "# initialize\n",
    "t=0.\n",
    "\n",
    "dt=0.001 # set time step\n",
    "\n",
    "dx=0.01*pi\n",
    "xgrid=arange(0,pi,dx)\n",
    "pot=zeros(len(xgrid))\n",
    "hardwallham=HamiltonianMatrix(potential=pot,dx=dx,periodic=True) #make Hamiltonian\n",
    "\n",
    "csrham=csc_matrix(hardwallham)                              # convert to more efficient format\n",
    "hamsize=hardwallham.shape[0]\n",
    "LHSOperator=sparse.identity(hamsize,dtype=complex,format=\"csc\")+0.5j*dt*csrham # Operator on Left\n",
    "inverseLHS=linalg.factorized(LHSOperator) # A function which essentially acts like the inverse matrix\n",
    "RHSOperator=sparse.identity(hamsize,dtype=complex,format=\"csc\")-0.5j*dt*csrham # Operator on right\n",
    "\n",
    "\n",
    "viewer.wavefunction=wavepacket(xgrid,x=pi/2,k=30,width=pi/8)\n",
    "viewer.grid=xgrid\n",
    "viewer.xlim(0,pi)\n",
    "viewer.ylim(-2,2)\n",
    "viewer.dx=dx\n",
    "viewer.force_redraw()\n",
    "\n",
    "timeseries=[] # list which will contain the wavefunctions\n",
    "\n",
    "counter=0\n",
    "# loop over timesteps\n",
    "while t<1.5:\n",
    "    viewer.wavefunction=inverseLHS(RHSOperator.dot(viewer.wavefunction))\n",
    "    #viewer.rescale()\n",
    "    timeseries.append([t,viewer.wavefunction])\n",
    "    if counter%20==0:\n",
    "        viewer.set_title(t)\n",
    "        viewer.updatelines()\n",
    "    t=t+dt\n",
    "    counter=counter+1\n",
    "\n",
    "viewer.force_redraw()"
   ]
  },
  {
   "cell_type": "code",
   "execution_count": null,
   "metadata": {},
   "outputs": [],
   "source": []
  },
  {
   "cell_type": "code",
   "execution_count": null,
   "metadata": {},
   "outputs": [],
   "source": []
  },
  {
   "cell_type": "markdown",
   "metadata": {},
   "source": [
    "<h2> Encapsulation </h2>"
   ]
  },
  {
   "cell_type": "markdown",
   "metadata": {},
   "source": [
    "One way to work with a notebook is to simply copy and paste a cell which is your \"program\" -- making changes as necessary (for example, changing the potential).  Another strategy is to encapsulate the simulation in either a function, or a more sophisticated object.  Once you have figured out what you want to calculate, you will find encapsulation is more efficient.  During the exploration phase, you may find the copying and pasting to be more efficient.  Here is one encapsulation strategy for the part of our program which generates the evolution matrices.  Typically we would also encapsulate the loop that does time evolution, but this is profound enough that one example is probably enough for now.  Fill in the missing code."
   ]
  },
  {
   "cell_type": "code",
   "execution_count": 223,
   "metadata": {},
   "outputs": [],
   "source": [
    "# Fill in the missing code\n",
    "\n",
    "class tdse:\n",
    "    \"\"\" tdse generates the machinery for evolving a wavefunction.  Call it with\n",
    "    tdse(dt,dx,pot,periodic): dt is the timestep, dx is the spatial discretization,\n",
    "    pot is a list of values of the potential on the grid.  periodic is True or False,\n",
    "    depending on if you want periodic boundary conditions\"\"\"\n",
    "    \n",
    "    def __init__(self,dt,dx,pot,periodic=False):\n",
    "        self.dt=dt\n",
    "        self.dx=dx\n",
    "        self.pot=pot\n",
    "        self.periodic=periodic\n",
    "        self.ham=HamiltonianMatrix(potential=pot,dx=dx,periodic=periodic)\n",
    "        \n",
    "        csrham=csc_matrix(self.ham)                              # convert to more efficient format\n",
    "        hamsize=(self.ham).shape[0]\n",
    "        LHSOperator=sparse.identity(hamsize,dtype=complex,format=\"csc\")+0.5j*dt*csrham # Operator on Left\n",
    "        inverseLHS=linalg.factorized(LHSOperator) # A function which essentially acts like the inverse matrix\n",
    "        RHSOperator=sparse.identity(hamsize,dtype=complex,format=\"csc\")-0.5j*dt*csrham # Operator on right\n",
    "        \n",
    "    def evolve(self,wavefunction):\n",
    "        return self.inverseLHS(self.RHSOperator.dot(wavefunction))"
   ]
  },
  {
   "cell_type": "markdown",
   "metadata": {},
   "source": [
    "<h2> Application1 -- the harmonic oscillator </h2>"
   ]
  },
  {
   "cell_type": "markdown",
   "metadata": {},
   "source": [
    "In this section we study the evolution of a wavepacket for a harmonic oscillator "
   ]
  },
  {
   "cell_type": "code",
   "execution_count": 173,
   "metadata": {},
   "outputs": [],
   "source": [
    "dx=0.01\n",
    "xgrid=arange(-10,10,dx)\n",
    "omega=2.*pi\n",
    "def harmpot(x):\n",
    "    return 0.5*omega**2*x**2\n",
    "\n",
    "harmdat=harmpot(xgrid)  # calculate the potential\n",
    "\n",
    "viewer=TDSEviewer(wavefunction=wavepacket(xgrid,x=-2,k=0.,width=0.5),grid=xgrid,potential=harmdat)"
   ]
  },
  {
   "cell_type": "markdown",
   "metadata": {},
   "source": [
    "Now lets generate the functions you need for time evolution"
   ]
  },
  {
   "cell_type": "code",
   "execution_count": 174,
   "metadata": {},
   "outputs": [],
   "source": [
    "ho=tdse(dt=0.001,dx=dx,pot=harmdat)\n",
    "\n",
    "\n",
    "# That one line replaces all of this:\n",
    "#  dt=0.001\n",
    "#  harmham=HamiltonianMatrix(potential=harmdat,dx=dx,periodic=False) # make Hamiltonian\n",
    "#  csrham=csc_matrix(harmham)                              # convert to more efficient format\n",
    "#  hamsize=harmham.shape[0]\n",
    "#  LHSOperator=sparse.identity(hamsize,dtype=complex,format=\"csc\")+0.5j*dt*csrham # Operator on Left\n",
    "#  inverseLHS=linalg.factorized(LHSOperator) # A function which essentially acts like the inverse matrix\n",
    "#  RHSOperator=sparse.identity(hamsize,dtype=complex,format=\"csc\")-0.5j*dt*csrham # Operator on right\n"
   ]
  },
  {
   "cell_type": "markdown",
   "metadata": {},
   "source": [
    "Animate the evolution"
   ]
  },
  {
   "cell_type": "code",
   "execution_count": 175,
   "metadata": {},
   "outputs": [
    {
     "ename": "AttributeError",
     "evalue": "tdse instance has no attribute 'inverseLHS'",
     "output_type": "error",
     "traceback": [
      "\u001b[0;31m---------------------------------------------------------------------------\u001b[0m",
      "\u001b[0;31mAttributeError\u001b[0m                            Traceback (most recent call last)",
      "\u001b[0;32m<ipython-input-175-63968255c628>\u001b[0m in \u001b[0;36m<module>\u001b[0;34m()\u001b[0m\n\u001b[1;32m     18\u001b[0m         \u001b[0mviewer\u001b[0m\u001b[0;34m.\u001b[0m\u001b[0mset_title\u001b[0m\u001b[0;34m(\u001b[0m\u001b[0mt\u001b[0m\u001b[0;34m)\u001b[0m\u001b[0;34m\u001b[0m\u001b[0m\n\u001b[1;32m     19\u001b[0m     \u001b[0mtimeseries\u001b[0m\u001b[0;34m.\u001b[0m\u001b[0mappend\u001b[0m\u001b[0;34m(\u001b[0m\u001b[0;34m[\u001b[0m\u001b[0mt\u001b[0m\u001b[0;34m,\u001b[0m\u001b[0mviewer\u001b[0m\u001b[0;34m.\u001b[0m\u001b[0mwavefunction\u001b[0m\u001b[0;34m]\u001b[0m\u001b[0;34m)\u001b[0m\u001b[0;34m\u001b[0m\u001b[0m\n\u001b[0;32m---> 20\u001b[0;31m     \u001b[0mviewer\u001b[0m\u001b[0;34m.\u001b[0m\u001b[0mwavefunction\u001b[0m\u001b[0;34m=\u001b[0m\u001b[0mho\u001b[0m\u001b[0;34m.\u001b[0m\u001b[0mevolve\u001b[0m\u001b[0;34m(\u001b[0m\u001b[0mviewer\u001b[0m\u001b[0;34m.\u001b[0m\u001b[0mwavefunction\u001b[0m\u001b[0;34m)\u001b[0m\u001b[0;34m\u001b[0m\u001b[0m\n\u001b[0m\u001b[1;32m     21\u001b[0m     \u001b[0mt\u001b[0m\u001b[0;34m=\u001b[0m\u001b[0mt\u001b[0m\u001b[0;34m+\u001b[0m\u001b[0mdt\u001b[0m\u001b[0;34m\u001b[0m\u001b[0m\n\u001b[1;32m     22\u001b[0m     \u001b[0mcounter\u001b[0m\u001b[0;34m=\u001b[0m\u001b[0mcounter\u001b[0m\u001b[0;34m+\u001b[0m\u001b[0;36m1\u001b[0m\u001b[0;34m\u001b[0m\u001b[0m\n",
      "\u001b[0;32m<ipython-input-172-d2857253623f>\u001b[0m in \u001b[0;36mevolve\u001b[0;34m(self, wavefunction)\u001b[0m\n\u001b[1;32m     21\u001b[0m \u001b[0;34m\u001b[0m\u001b[0m\n\u001b[1;32m     22\u001b[0m     \u001b[0;32mdef\u001b[0m \u001b[0mevolve\u001b[0m\u001b[0;34m(\u001b[0m\u001b[0mself\u001b[0m\u001b[0;34m,\u001b[0m\u001b[0mwavefunction\u001b[0m\u001b[0;34m)\u001b[0m\u001b[0;34m:\u001b[0m\u001b[0;34m\u001b[0m\u001b[0m\n\u001b[0;32m---> 23\u001b[0;31m         \u001b[0;32mreturn\u001b[0m \u001b[0mself\u001b[0m\u001b[0;34m.\u001b[0m\u001b[0minverseLHS\u001b[0m\u001b[0;34m(\u001b[0m\u001b[0mself\u001b[0m\u001b[0;34m.\u001b[0m\u001b[0mRHSOperator\u001b[0m\u001b[0;34m.\u001b[0m\u001b[0mdot\u001b[0m\u001b[0;34m(\u001b[0m\u001b[0mwavefunction\u001b[0m\u001b[0;34m)\u001b[0m\u001b[0;34m)\u001b[0m\u001b[0;34m\u001b[0m\u001b[0m\n\u001b[0m",
      "\u001b[0;31mAttributeError\u001b[0m: tdse instance has no attribute 'inverseLHS'"
     ]
    }
   ],
   "source": [
    "viewer=TDSEviewer()\n",
    "viewer.wavefunction=wavepacket(xgrid,x=pi/2,k=30,width=pi/8)\n",
    "viewer.grid=xgrid\n",
    "viewer.xlim(0,pi)\n",
    "viewer.ylim(-2,2)\n",
    "viewer.dx=dx\n",
    "viewer.force_redraw()\n",
    "\n",
    "timeseries=[] # list which will contain the wavefunctions\n",
    "\n",
    "counter=0\n",
    "t=0.\n",
    "\n",
    "# loop over timesteps\n",
    "while t<4:\n",
    "    if counter%20==0:\n",
    "        viewer.updatelines()\n",
    "        viewer.set_title(t)\n",
    "    timeseries.append([t,viewer.wavefunction])\n",
    "    viewer.wavefunction=ho.evolve(viewer.wavefunction)\n",
    "    t=t+dt\n",
    "    counter=counter+1"
   ]
  },
  {
   "cell_type": "markdown",
   "metadata": {},
   "source": [
    "You should have seen a wavepacket bouncing back and forth in the harmonic potential.  "
   ]
  },
  {
   "cell_type": "markdown",
   "metadata": {},
   "source": [
    "<h3> Studying the data </h3>"
   ]
  },
  {
   "cell_type": "markdown",
   "metadata": {},
   "source": [
    "The first thing we now want to do is take a look at a plot of the probability density as a function of position and time"
   ]
  },
  {
   "cell_type": "code",
   "execution_count": null,
   "metadata": {},
   "outputs": [],
   "source": [
    "wfseries=array([wf for time,wf in timeseries])\n",
    "xlim([xgrid[0],xgrid[-1]])\n",
    "ylim([0,t])\n",
    "imshow(abs(wfseries),aspect=4,origin=\"lower\",cmap=gray(),extent=[xgrid[0],xgrid[-1],0,t])\n",
    "title(\"probability density: harmonic oscillator\")\n",
    "ylabel(\"t\")\n",
    "xlabel(\"x\")\n",
    "colorbar()\n",
    "#uncomment the next line to save the figure\n",
    "#savefig(\"pdens.png\")"
   ]
  },
  {
   "cell_type": "markdown",
   "metadata": {},
   "source": [
    "The array wfseries is a sequence of 4001 wavefunctions at sequential timesteps.  Each wavefunction is a vector of 2000 complex numbers"
   ]
  },
  {
   "cell_type": "code",
   "execution_count": null,
   "metadata": {},
   "outputs": [],
   "source": [
    "wfseries.shape"
   ]
  },
  {
   "cell_type": "markdown",
   "metadata": {},
   "source": [
    "We can readily verify that the probability density is conserved"
   ]
  },
  {
   "cell_type": "code",
   "execution_count": null,
   "metadata": {},
   "outputs": [],
   "source": [
    "norms=(abs(wfseries)**2).sum(1)\n",
    "plot(norms)\n",
    "xlabel(\"time slice\")\n",
    "ylabel(\"sum of squares of elements\")"
   ]
  },
  {
   "cell_type": "markdown",
   "metadata": {},
   "source": [
    "Next lets make a plot of $\\langle x\\rangle$ as a function of time.  We will call this time series \"posseries\""
   ]
  },
  {
   "cell_type": "code",
   "execution_count": null,
   "metadata": {},
   "outputs": [],
   "source": [
    "posseries= dot(abs(wfseries)**2,xgrid)/norms"
   ]
  },
  {
   "cell_type": "code",
   "execution_count": null,
   "metadata": {},
   "outputs": [],
   "source": [
    "times=array([time for time,wf in timeseries])"
   ]
  },
  {
   "cell_type": "code",
   "execution_count": null,
   "metadata": {},
   "outputs": [],
   "source": [
    "plot(times,posseries)\n",
    "xlabel(\"time\")\n",
    "ylabel(\"position\")\n",
    "title(\"harmonic oscillator with Period 1\")"
   ]
  },
  {
   "cell_type": "markdown",
   "metadata": {},
   "source": [
    "<strong> Exercise:</strong>  Repeat this numerical experiment, but this time start with a wave-function which is a superposition of two (initially stationary) wave-packets, one at x=-2 and one at x=2.  Make a plot of the probability density as a function of space and time.  Properly label the axes.  "
   ]
  },
  {
   "cell_type": "code",
   "execution_count": 176,
   "metadata": {},
   "outputs": [],
   "source": [
    "dx=0.01\n",
    "xgrid=arange(-10,10,dx)\n",
    "omega=2.*pi\n",
    "def harmpot(x):\n",
    "    return 0.5*omega**2*x**2\n",
    "\n",
    "harmdat=harmpot(xgrid)  # calculate the potential\n",
    "\n",
    "wavep1 = wavepacket(xgrid,-2,k=0,width=.05)\n",
    "wavep2 = wavepacket(xgrid,2,k=0,width=.05)\n",
    "\n",
    "\n",
    "viewer=TDSEviewer(wavefunction=(wavep1+wavep2),grid=xgrid,potential=harmdat)\n"
   ]
  },
  {
   "cell_type": "code",
   "execution_count": 177,
   "metadata": {},
   "outputs": [
    {
     "data": {
      "text/plain": [
       "<matplotlib.colorbar.Colorbar at 0x11cd6c950>"
      ]
     },
     "execution_count": 177,
     "metadata": {},
     "output_type": "execute_result"
    },
    {
     "data": {
      "image/png": "[encoded data removed]",
      "text/plain": [
       "<Figure size 432x288 with 2 Axes>"
      ]
     },
     "metadata": {
      "needs_background": "light"
     },
     "output_type": "display_data"
    }
   ],
   "source": [
    "wfseries=array([wf for time,wf in timeseries])\n",
    "xlim([xgrid[0],xgrid[-1]])\n",
    "ylim([0,t])\n",
    "imshow(abs(wfseries),aspect=4,origin=\"lower\",cmap=gray(),extent=[xgrid[0],xgrid[-1],0,t])\n",
    "title(\"probability density: harmonic oscillator\")\n",
    "ylabel(\"t\")\n",
    "xlabel(\"x\")\n",
    "colorbar()"
   ]
  },
  {
   "cell_type": "code",
   "execution_count": 178,
   "metadata": {},
   "outputs": [
    {
     "data": {
      "text/plain": [
       "Text(0,0.5,'sum of squares of elements')"
      ]
     },
     "execution_count": 178,
     "metadata": {},
     "output_type": "execute_result"
    },
    {
     "data": {
      "image/png": "[encoded data removed]",
      "text/plain": [
       "<Figure size 432x288 with 1 Axes>"
      ]
     },
     "metadata": {
      "needs_background": "light"
     },
     "output_type": "display_data"
    }
   ],
   "source": [
    "norms=(abs(wfseries)**2).sum(1)\n",
    "plot(norms)\n",
    "xlabel(\"time slice\")\n",
    "ylabel(\"sum of squares of elements\")"
   ]
  },
  {
   "cell_type": "markdown",
   "metadata": {},
   "source": [
    "<strong> Exercise:</strong>  Repeat for a packet which starts off stationary at x=0.  Make a plot of the probability density as a function of space and time.  Properly label the axes.  "
   ]
  },
  {
   "cell_type": "code",
   "execution_count": 179,
   "metadata": {},
   "outputs": [],
   "source": [
    "dx=0.01\n",
    "xgrid=arange(-10,10,dx)\n",
    "omega=2.*pi\n",
    "def harmpot(x):\n",
    "    return 0.5*omega**2*x**2\n",
    "\n",
    "harmdat=harmpot(xgrid)  # calculate the potential\n",
    "\n",
    "wavep1 = wavepacket(xgrid,0,k=0,width=.05)\n",
    "\n",
    "\n",
    "viewer=TDSEviewer(wavefunction=(wavep1),grid=xgrid,potential=harmdat)"
   ]
  },
  {
   "cell_type": "code",
   "execution_count": 180,
   "metadata": {},
   "outputs": [
    {
     "data": {
      "text/plain": [
       "<matplotlib.colorbar.Colorbar at 0xa2a321950>"
      ]
     },
     "execution_count": 180,
     "metadata": {},
     "output_type": "execute_result"
    },
    {
     "data": {
      "image/png": "[encoded data removed]",
      "text/plain": [
       "<Figure size 432x288 with 2 Axes>"
      ]
     },
     "metadata": {
      "needs_background": "light"
     },
     "output_type": "display_data"
    }
   ],
   "source": [
    "wfseries=array([wf for time,wf in timeseries])\n",
    "xlim([xgrid[0],xgrid[-1]])\n",
    "ylim([0,t])\n",
    "imshow(abs(wfseries),aspect=4,origin=\"lower\",cmap=gray(),extent=[xgrid[0],xgrid[-1],0,t])\n",
    "title(\"probability density: harmonic oscillator centered at 0\")\n",
    "ylabel(\"t\")\n",
    "xlabel(\"x\")\n",
    "colorbar()"
   ]
  },
  {
   "cell_type": "code",
   "execution_count": 181,
   "metadata": {},
   "outputs": [
    {
     "data": {
      "text/plain": [
       "Text(0.5,1,'harmonic oscillator centered at 0')"
      ]
     },
     "execution_count": 181,
     "metadata": {},
     "output_type": "execute_result"
    },
    {
     "data": {
      "image/png": "[encoded data removed]",
      "text/plain": [
       "<Figure size 432x288 with 1 Axes>"
      ]
     },
     "metadata": {
      "needs_background": "light"
     },
     "output_type": "display_data"
    }
   ],
   "source": [
    "posseries= abs(wfseries)**2/norms\n",
    "plot(times,posseries)\n",
    "xlabel(\"time\")\n",
    "ylabel(\"position\")\n",
    "title(\"harmonic oscillator centered at 0\")"
   ]
  },
  {
   "cell_type": "markdown",
   "metadata": {},
   "source": [
    "<strong> Exercise:</strong>  Repeat for a packet which starts off stationary at x=0, and has width of width=1 instead of width=1/2.  Make a plot of $\\langle x^2 \\rangle$ vs time.  Properly label the axes.  "
   ]
  },
  {
   "cell_type": "code",
   "execution_count": 182,
   "metadata": {},
   "outputs": [],
   "source": [
    "dx=0.01\n",
    "xgrid=arange(-10,10,dx)\n",
    "omega=2.*pi\n",
    "def harmpot(x):\n",
    "    return 0.5*omega**2*x**2\n",
    "\n",
    "harmdat=harmpot(xgrid)  # calculate the potential\n",
    "\n",
    "wavep1 = wavepacket(xgrid,0,k=0,width=.05)\n",
    "\n",
    "\n",
    "viewer=TDSEviewer(wavefunction=(wavep1),grid=xgrid,potential=harmdat)"
   ]
  },
  {
   "cell_type": "code",
   "execution_count": 183,
   "metadata": {},
   "outputs": [
    {
     "data": {
      "text/plain": [
       "<matplotlib.colorbar.Colorbar at 0xbb1045fd0>"
      ]
     },
     "execution_count": 183,
     "metadata": {},
     "output_type": "execute_result"
    },
    {
     "data": {
      "image/png": "[encoded data removed]",
      "text/plain": [
       "<Figure size 432x288 with 2 Axes>"
      ]
     },
     "metadata": {
      "needs_background": "light"
     },
     "output_type": "display_data"
    }
   ],
   "source": [
    "wfseries=array([wf for time,wf in timeseries])\n",
    "xlim([xgrid[0],xgrid[-1]])\n",
    "ylim([0,t])\n",
    "imshow(abs(wfseries),aspect=4,origin=\"lower\",cmap=gray(),extent=[xgrid[0],xgrid[-1],0,t])\n",
    "title(\"probability density: harmonic oscillator centered at 0\")\n",
    "ylabel(\"t\")\n",
    "xlabel(\"x\")\n",
    "colorbar()"
   ]
  },
  {
   "cell_type": "code",
   "execution_count": 184,
   "metadata": {},
   "outputs": [
    {
     "data": {
      "text/plain": [
       "Text(0.5,1,'harmonic oscillator centered at 0')"
      ]
     },
     "execution_count": 184,
     "metadata": {},
     "output_type": "execute_result"
    },
    {
     "data": {
      "image/png": "[encoded data removed]",
      "text/plain": [
       "<Figure size 432x288 with 1 Axes>"
      ]
     },
     "metadata": {
      "needs_background": "light"
     },
     "output_type": "display_data"
    }
   ],
   "source": [
    "posseries= dot(abs(wfseries)**2,xgrid**2)/norms\n",
    "plot(times,posseries)\n",
    "xlabel(\"time\")\n",
    "ylabel(\"position\")\n",
    "title(\"harmonic oscillator centered at 0\")"
   ]
  },
  {
   "cell_type": "markdown",
   "metadata": {},
   "source": [
    "<strong> Exercise:</strong>  How does the period of oscillation of $\\langle x^2\\rangle$ in the last problem compare to the oscillation  period of $\\langle x\\rangle$ in the original simulation."
   ]
  },
  {
   "cell_type": "markdown",
   "metadata": {},
   "source": [
    "My code doesn't seem to output a file, but the period of oscillation, in my estimation, should stay the same"
   ]
  },
  {
   "cell_type": "code",
   "execution_count": null,
   "metadata": {},
   "outputs": [],
   "source": []
  },
  {
   "cell_type": "code",
   "execution_count": null,
   "metadata": {},
   "outputs": [],
   "source": []
  }
 ],
 "metadata": {
  "kernelspec": {
   "display_name": "Python 2",
   "language": "python",
   "name": "python2"
  },
  "language_info": {
   "codemirror_mode": {
    "name": "ipython",
    "version": 2
   },
   "file_extension": ".py",
   "mimetype": "text/x-python",
   "name": "python",
   "nbconvert_exporter": "python",
   "pygments_lexer": "ipython2",
   "version": "2.7.15"
  }
 },
 "nbformat": 4,
 "nbformat_minor": 1
}
